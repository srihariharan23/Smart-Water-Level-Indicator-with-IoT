{
 "cells": [
  {
   "cell_type": "code",
   "execution_count": 2,
   "metadata": {},
   "outputs": [],
   "source": [
    "import os\n",
    "import pandas as pd\n",
    "import numpy as np\n",
    "import math\n",
    "from collections import Counter\n",
    "import mysql.connector\n",
    "import matplotlib\n",
    "from matplotlib import pyplot as plt\n",
    "import datetime as dt\n",
    "%matplotlib inline"
   ]
  },
  {
   "cell_type": "code",
   "execution_count": 8,
   "metadata": {},
   "outputs": [
    {
     "name": "stdout",
     "output_type": "stream",
     "text": [
      "<mysql.connector.connection_cext.CMySQLConnection object at 0x00000142C976CA20>\n"
     ]
    }
   ],
   "source": [
    "mydb = mysql.connector.connect(\n",
    " host=\"10.10.110.2\",\n",
    " user=\"test\",\n",
    " passwd=\"test\",\n",
    " database = \"water_monetering\"\n",
    ")\n",
    "\n",
    "print(mydb)"
   ]
  },
  {
   "cell_type": "code",
   "execution_count": 7,
   "metadata": {},
   "outputs": [
    {
     "name": "stdout",
     "output_type": "stream",
     "text": [
      "(1, 33561.5, 171.84, datetime.datetime(2019, 9, 17, 14, 40, 59))\n",
      "(2, 33588.1, 171.98, datetime.datetime(2019, 9, 17, 14, 41, 59))\n",
      "(3, 33465.2, 171.35, datetime.datetime(2019, 9, 17, 14, 43))\n",
      "(4, 33724.2, 172.67, datetime.datetime(2019, 9, 17, 14, 44, 1))\n",
      "(5, 33568.2, 171.87, datetime.datetime(2019, 9, 17, 14, 45, 1))\n",
      "(6, 32572.1, 166.77, datetime.datetime(2019, 9, 17, 14, 46, 2))\n",
      "(7, 33671.1, 172.4, datetime.datetime(2019, 9, 17, 14, 47, 2))\n",
      "(8, 33478.5, 171.41, datetime.datetime(2019, 9, 17, 14, 48, 3))\n",
      "(9, 33730.9, 172.71, datetime.datetime(2019, 9, 17, 14, 49, 3))\n",
      "(10, 33993.2, 174.05, datetime.datetime(2019, 9, 17, 14, 50, 4))\n",
      "(11, 33976.6, 173.96, datetime.datetime(2019, 9, 17, 14, 51, 4))\n",
      "(12, 34092.8, 174.56, datetime.datetime(2019, 9, 17, 14, 52, 5))\n",
      "(13, 34116.0, 174.68, datetime.datetime(2019, 9, 17, 14, 53, 6))\n",
      "(14, 34195.7, 175.09, datetime.datetime(2019, 9, 17, 14, 55, 14))\n",
      "(15, 34049.6, 174.34, datetime.datetime(2019, 9, 17, 14, 56, 18))\n",
      "(16, 34215.6, 175.19, datetime.datetime(2019, 9, 17, 14, 57, 24))\n",
      "(17, 33345.7, 170.73, datetime.datetime(2019, 9, 17, 14, 58, 25))\n",
      "(18, 33993.2, 174.05, datetime.datetime(2019, 9, 17, 14, 59, 25))\n",
      "(19, 34009.8, 174.13, datetime.datetime(2019, 9, 17, 15, 0, 26))\n",
      "(20, 34122.6, 174.71, datetime.datetime(2019, 9, 17, 15, 1, 27))\n",
      "(21, 34116.0, 174.68, datetime.datetime(2019, 9, 17, 15, 2, 27))\n",
      "(22, 34026.4, 174.22, datetime.datetime(2019, 9, 17, 15, 3, 28))\n",
      "(23, 33976.6, 173.96, datetime.datetime(2019, 9, 17, 15, 4, 28))\n",
      "(24, 34179.1, 175.0, datetime.datetime(2019, 9, 17, 15, 5, 29))\n",
      "(25, 34132.6, 174.76, datetime.datetime(2019, 9, 17, 15, 6, 30))\n",
      "(26, 34062.9, 174.41, datetime.datetime(2019, 9, 17, 15, 7, 31))\n",
      "(27, 33946.7, 173.81, datetime.datetime(2019, 9, 17, 15, 8, 31))\n",
      "(28, 34308.6, 175.66, datetime.datetime(2019, 9, 17, 15, 9, 32))\n",
      "(29, 34268.7, 175.46, datetime.datetime(2019, 9, 17, 15, 10, 32))\n",
      "(30, 34195.7, 175.09, datetime.datetime(2019, 9, 17, 15, 11, 33))\n",
      "(31, 34013.1, 174.15, datetime.datetime(2019, 9, 17, 15, 12, 33))\n",
      "(32, 34218.9, 175.21, datetime.datetime(2019, 9, 17, 15, 13, 34))\n",
      "(33, 34052.9, 174.36, datetime.datetime(2019, 9, 17, 15, 14, 34))\n",
      "(34, 34308.6, 175.66, datetime.datetime(2019, 9, 17, 15, 15, 35))\n",
      "(35, 34109.4, 174.64, datetime.datetime(2019, 9, 17, 15, 16, 36))\n",
      "(36, 34159.2, 174.9, datetime.datetime(2019, 9, 17, 15, 17, 37))\n",
      "(37, 34225.6, 175.24, datetime.datetime(2019, 9, 17, 15, 18, 37))\n",
      "(38, 33993.2, 174.05, datetime.datetime(2019, 9, 17, 15, 19, 38))\n",
      "(39, 34272.1, 175.48, datetime.datetime(2019, 9, 17, 15, 20, 38))\n",
      "(40, 34265.4, 175.44, datetime.datetime(2019, 9, 17, 15, 21, 39))\n",
      "(41, 34235.5, 175.29, datetime.datetime(2019, 9, 17, 15, 22, 39))\n",
      "(42, 34023.0, 174.2, datetime.datetime(2019, 9, 17, 15, 23, 40))\n",
      "(43, 33930.1, 173.73, datetime.datetime(2019, 9, 17, 15, 24, 40))\n",
      "(44, 34006.4, 174.12, datetime.datetime(2019, 9, 17, 15, 25, 41))\n",
      "(45, 34006.4, 174.12, datetime.datetime(2019, 9, 17, 15, 26, 42))\n",
      "(46, 34129.3, 174.75, datetime.datetime(2019, 9, 17, 15, 27, 42))\n",
      "(47, 34089.4, 174.54, datetime.datetime(2019, 9, 17, 15, 28, 43))\n",
      "(48, 34089.4, 174.54, datetime.datetime(2019, 9, 17, 15, 29, 43))\n",
      "(49, 34228.9, 175.26, datetime.datetime(2019, 9, 17, 15, 30, 44))\n",
      "(50, 34202.3, 175.12, datetime.datetime(2019, 9, 17, 15, 31, 45))\n",
      "(51, 33993.2, 174.05, datetime.datetime(2019, 9, 17, 15, 32, 48))\n",
      "(52, 34052.9, 174.36, datetime.datetime(2019, 9, 17, 15, 33, 48))\n",
      "(53, 34026.4, 174.22, datetime.datetime(2019, 9, 17, 15, 34, 49))\n",
      "(54, 33933.4, 173.74, datetime.datetime(2019, 9, 17, 15, 35, 49))\n",
      "(55, 33993.2, 174.05, datetime.datetime(2019, 9, 17, 15, 36, 50))\n",
      "(56, 33883.6, 173.49, datetime.datetime(2019, 9, 17, 15, 37, 51))\n",
      "(57, 33867.0, 173.4, datetime.datetime(2019, 9, 17, 15, 38, 51))\n",
      "(58, 33916.8, 173.66, datetime.datetime(2019, 9, 17, 15, 39, 52))\n",
      "(59, 33896.9, 173.56, datetime.datetime(2019, 9, 17, 15, 40, 52))\n",
      "(60, 33876.9, 173.45, datetime.datetime(2019, 9, 17, 15, 41, 53))\n",
      "(61, 33860.4, 173.37, datetime.datetime(2019, 9, 17, 15, 42, 54))\n",
      "(62, 33720.9, 172.65, datetime.datetime(2019, 9, 17, 15, 43, 54))\n",
      "(63, 33701.0, 172.55, datetime.datetime(2019, 9, 17, 15, 44, 55))\n",
      "(64, 33764.1, 172.88, datetime.datetime(2019, 9, 17, 15, 45, 55))\n",
      "(65, 33730.9, 172.71, datetime.datetime(2019, 9, 17, 15, 46, 56))\n",
      "(66, 33793.9, 173.03, datetime.datetime(2019, 9, 17, 15, 47, 57))\n",
      "(67, 33697.7, 172.54, datetime.datetime(2019, 9, 17, 15, 48, 57))\n",
      "(68, 33681.1, 172.45, datetime.datetime(2019, 9, 17, 15, 49, 58))\n",
      "(69, 33671.1, 172.4, datetime.datetime(2019, 9, 17, 15, 50, 58))\n",
      "(70, 33644.5, 172.26, datetime.datetime(2019, 9, 17, 15, 51, 59))\n",
      "(71, 33720.9, 172.65, datetime.datetime(2019, 9, 17, 15, 52, 59))\n",
      "(72, 33538.3, 171.72, datetime.datetime(2019, 9, 17, 15, 54))\n",
      "(73, 33594.7, 172.01, datetime.datetime(2019, 9, 17, 15, 55, 1))\n",
      "(74, 33505.1, 171.55, datetime.datetime(2019, 9, 17, 15, 56, 1))\n",
      "(75, 33564.9, 171.86, datetime.datetime(2019, 9, 17, 15, 57, 2))\n",
      "(76, 33538.3, 171.72, datetime.datetime(2019, 9, 17, 15, 58, 2))\n",
      "(77, 33435.4, 171.19, datetime.datetime(2019, 9, 17, 15, 59, 3))\n",
      "(78, 33491.8, 171.48, datetime.datetime(2019, 9, 17, 16, 0, 3))\n",
      "(79, 33478.5, 171.41, datetime.datetime(2019, 9, 17, 16, 1, 4))\n",
      "(80, 33465.2, 171.35, datetime.datetime(2019, 9, 17, 16, 2, 4))\n",
      "(81, 33422.1, 171.13, datetime.datetime(2019, 9, 17, 16, 3, 5))\n",
      "(82, 33408.8, 171.06, datetime.datetime(2019, 9, 17, 16, 4, 5))\n",
      "(83, 33362.3, 170.82, datetime.datetime(2019, 9, 17, 16, 5, 6))\n",
      "(84, 33365.6, 170.84, datetime.datetime(2019, 9, 17, 16, 6, 6))\n",
      "(85, 33259.4, 170.29, datetime.datetime(2019, 9, 17, 16, 7, 7))\n",
      "(86, 33322.5, 170.62, datetime.datetime(2019, 9, 17, 16, 8, 8))\n",
      "(87, 33378.9, 170.9, datetime.datetime(2019, 9, 17, 16, 9, 8))\n",
      "(88, 33272.7, 170.36, datetime.datetime(2019, 9, 17, 16, 10, 9))\n",
      "(89, 33183.0, 169.9, datetime.datetime(2019, 9, 17, 16, 11, 9))\n",
      "(90, 33219.6, 170.09, datetime.datetime(2019, 9, 17, 16, 12, 10))\n",
      "(91, 33189.7, 169.93, datetime.datetime(2019, 9, 17, 16, 13, 10))\n",
      "(92, 33156.5, 169.76, datetime.datetime(2019, 9, 17, 16, 14, 11))\n",
      "(93, 33136.5, 169.66, datetime.datetime(2019, 9, 17, 16, 15, 12))\n",
      "(94, 33093.4, 169.44, datetime.datetime(2019, 9, 17, 16, 16, 12))\n",
      "(95, 33080.1, 169.37, datetime.datetime(2019, 9, 17, 16, 17, 13))\n",
      "(96, 33036.9, 169.15, datetime.datetime(2019, 9, 17, 16, 18, 13))\n",
      "(97, 33050.2, 169.22, datetime.datetime(2019, 9, 17, 16, 19, 14))\n",
      "(98, 33007.1, 169.0, datetime.datetime(2019, 9, 17, 16, 20, 14))\n",
      "(99, 33013.7, 169.03, datetime.datetime(2019, 9, 17, 16, 21, 15))\n",
      "(100, 32980.5, 168.86, datetime.datetime(2019, 9, 17, 16, 22, 16))\n",
      "(101, 32977.2, 168.85, datetime.datetime(2019, 9, 17, 16, 23, 16))\n",
      "(102, 32944.0, 168.68, datetime.datetime(2019, 9, 17, 16, 24, 17))\n",
      "(103, 32937.3, 168.64, datetime.datetime(2019, 9, 17, 16, 25, 17))\n",
      "(104, 32967.2, 168.8, datetime.datetime(2019, 9, 17, 16, 26, 18))\n",
      "(105, 32870.9, 168.3, datetime.datetime(2019, 9, 17, 16, 27, 19))\n",
      "(106, 32844.4, 168.17, datetime.datetime(2019, 9, 17, 16, 28, 19))\n",
      "(107, 32794.6, 167.91, datetime.datetime(2019, 9, 17, 16, 29, 20))\n",
      "(108, 32645.1, 167.15, datetime.datetime(2019, 9, 17, 16, 30, 20))\n",
      "(109, 32585.4, 166.84, datetime.datetime(2019, 9, 17, 16, 31, 21))\n",
      "(110, 32449.2, 166.14, datetime.datetime(2019, 9, 17, 16, 32, 22))\n",
      "(111, 32283.2, 165.29, datetime.datetime(2019, 9, 17, 16, 33, 22))\n",
      "(112, 32074.1, 164.22, datetime.datetime(2019, 9, 17, 16, 34, 23))\n",
      "(113, 32004.3, 163.87, datetime.datetime(2019, 9, 17, 16, 35, 23))\n",
      "(114, 31791.8, 162.78, datetime.datetime(2019, 9, 17, 16, 36, 24))\n",
      "(115, 31642.4, 162.01, datetime.datetime(2019, 9, 17, 16, 37, 25))\n",
      "(116, 31579.3, 161.69, datetime.datetime(2019, 9, 17, 16, 38, 25))\n",
      "(117, 31446.5, 161.01, datetime.datetime(2019, 9, 17, 16, 39, 27))\n",
      "(118, 31210.8, 159.8, datetime.datetime(2019, 9, 17, 16, 40, 28))\n",
      "(119, 31071.3, 159.09, datetime.datetime(2019, 9, 17, 16, 41, 28))\n",
      "(120, 31018.2, 158.82, datetime.datetime(2019, 9, 17, 16, 42, 29))\n",
      "(121, 30875.5, 158.09, datetime.datetime(2019, 9, 17, 16, 43, 29))\n",
      "(122, 30666.3, 157.01, datetime.datetime(2019, 9, 17, 16, 44, 30))\n",
      "(123, 30606.5, 156.71, datetime.datetime(2019, 9, 17, 16, 45, 30))\n",
      "(124, 30450.5, 155.91, datetime.datetime(2019, 9, 17, 16, 46, 31))\n",
      "(125, 30311.0, 155.2, datetime.datetime(2019, 9, 17, 16, 47, 32))\n",
      "(126, 30095.2, 154.09, datetime.datetime(2019, 9, 17, 16, 48, 32))\n",
      "(127, 29942.5, 153.31, datetime.datetime(2019, 9, 17, 16, 49, 33))\n",
      "(128, 29886.0, 153.02, datetime.datetime(2019, 9, 17, 16, 50, 33))\n",
      "(129, 29756.5, 152.36, datetime.datetime(2019, 9, 17, 16, 51, 34))\n",
      "(130, 29401.3, 150.54, datetime.datetime(2019, 9, 17, 16, 52, 34))\n",
      "(131, 29461.0, 150.84, datetime.datetime(2019, 9, 17, 16, 53, 35))\n",
      "(132, 28209.3, 144.43, datetime.datetime(2019, 9, 17, 16, 54, 36))\n",
      "(133, 29178.8, 149.4, datetime.datetime(2019, 9, 17, 16, 55, 36))\n",
      "(134, 29122.4, 149.11, datetime.datetime(2019, 9, 17, 16, 56, 37))\n",
      "(135, 28816.9, 147.55, datetime.datetime(2019, 9, 17, 16, 57, 38))\n",
      "(136, 28677.5, 146.83, datetime.datetime(2019, 9, 17, 16, 58, 38))\n",
      "(137, 28289.0, 144.84, datetime.datetime(2019, 9, 17, 16, 59, 39))\n",
      "(138, 28401.9, 145.42, datetime.datetime(2019, 9, 17, 17, 0, 39))\n",
      "(139, 28279.0, 144.79, datetime.datetime(2019, 9, 17, 17, 1, 40))\n",
      "(140, 28431.8, 145.57, datetime.datetime(2019, 9, 17, 17, 2, 40))\n",
      "(141, 28328.8, 145.05, datetime.datetime(2019, 9, 17, 17, 3, 41))\n",
      "(142, 27976.9, 143.25, datetime.datetime(2019, 9, 17, 17, 4, 42))\n",
      "(143, 28206.0, 144.42, datetime.datetime(2019, 9, 17, 17, 5, 42))\n",
      "(144, 28275.7, 144.78, datetime.datetime(2019, 9, 17, 17, 6, 43))\n",
      "(145, 28335.5, 145.08, datetime.datetime(2019, 9, 17, 17, 7, 44))\n",
      "(146, 28259.1, 144.69, datetime.datetime(2019, 9, 17, 17, 8, 44))\n",
      "(147, 28159.5, 144.18, datetime.datetime(2019, 9, 17, 17, 9, 45))\n",
      "(148, 28196.0, 144.37, datetime.datetime(2019, 9, 17, 17, 10, 45))\n",
      "(149, 28113.0, 143.94, datetime.datetime(2019, 9, 17, 17, 11, 47))\n",
      "(150, 28259.1, 144.69, datetime.datetime(2019, 9, 17, 17, 12, 48))\n",
      "(151, 28169.5, 144.23, datetime.datetime(2019, 9, 17, 17, 13, 48))\n",
      "(152, 28146.2, 144.11, datetime.datetime(2019, 9, 17, 17, 14, 49))\n",
      "(153, 28030.0, 143.52, datetime.datetime(2019, 9, 17, 17, 15, 49))\n",
      "(154, 28033.3, 143.53, datetime.datetime(2019, 9, 17, 17, 16, 50))\n",
      "(155, 28096.4, 143.86, datetime.datetime(2019, 9, 17, 17, 17, 51))\n",
      "(156, 28000.1, 143.36, datetime.datetime(2019, 9, 17, 17, 18, 51))\n",
      "(157, 28056.6, 143.65, datetime.datetime(2019, 9, 17, 17, 19, 52))\n",
      "(158, 27963.6, 143.18, datetime.datetime(2019, 9, 17, 17, 20, 52))\n",
      "(159, 27860.7, 142.65, datetime.datetime(2019, 9, 17, 17, 21, 53))\n",
      "(160, 28006.8, 143.4, datetime.datetime(2019, 9, 17, 17, 22, 53))\n",
      "(161, 27986.9, 143.3, datetime.datetime(2019, 9, 17, 17, 23, 54))\n",
      "(162, 27947.0, 143.09, datetime.datetime(2019, 9, 17, 17, 24, 54))\n",
      "(163, 29152.3, 149.26, datetime.datetime(2019, 9, 18, 8, 48, 12))\n",
      "(164, 28933.1, 148.14, datetime.datetime(2019, 9, 18, 8, 49, 12))\n",
      "(165, 28215.9, 144.47, datetime.datetime(2019, 9, 18, 8, 50, 13))\n",
      "(166, 28896.6, 147.95, datetime.datetime(2019, 9, 18, 8, 51, 13))\n",
      "(167, 28956.4, 148.26, datetime.datetime(2019, 9, 18, 8, 52, 14))\n",
      "(168, 28929.8, 148.12, datetime.datetime(2019, 9, 18, 8, 53, 14))\n",
      "(169, 28913.2, 148.04, datetime.datetime(2019, 9, 18, 8, 54, 15))\n",
      "(170, 28946.4, 148.21, datetime.datetime(2019, 9, 18, 8, 55, 16))\n",
      "(171, 28853.4, 147.73, datetime.datetime(2019, 9, 18, 8, 56, 16))\n",
      "(172, 28919.8, 148.07, datetime.datetime(2019, 9, 18, 8, 57, 17))\n",
      "(173, 28807.0, 147.5, datetime.datetime(2019, 9, 18, 8, 58, 18))\n",
      "(174, 28793.7, 147.43, datetime.datetime(2019, 9, 18, 8, 59, 19))\n",
      "(175, 28753.8, 147.22, datetime.datetime(2019, 9, 18, 9, 0, 19))\n",
      "(176, 28654.2, 146.71, datetime.datetime(2019, 9, 18, 9, 1, 20))\n",
      "(177, 28411.8, 145.47, datetime.datetime(2019, 9, 18, 9, 2, 20))\n",
      "(178, 28368.7, 145.25, datetime.datetime(2019, 9, 18, 9, 3, 21))\n",
      "(179, 28199.3, 144.38, datetime.datetime(2019, 9, 18, 9, 4, 21))\n",
      "(180, 28040.0, 143.57, datetime.datetime(2019, 9, 18, 9, 5, 22))\n",
      "(181, 27877.3, 142.74, datetime.datetime(2019, 9, 18, 9, 6, 23))\n",
      "(182, 27747.8, 142.07, datetime.datetime(2019, 9, 18, 9, 7, 24))\n",
      "(183, 27654.8, 141.6, datetime.datetime(2019, 9, 18, 9, 8, 24))\n",
      "(184, 27502.1, 140.81, datetime.datetime(2019, 9, 18, 9, 9, 25))\n",
      "(185, 27269.7, 139.62, datetime.datetime(2019, 9, 18, 9, 10, 25))\n",
      "(186, 27050.6, 138.5, datetime.datetime(2019, 9, 18, 9, 11, 26))\n",
      "(187, 26984.1, 138.16, datetime.datetime(2019, 9, 18, 9, 12, 26))\n",
      "(188, 27007.4, 138.28, datetime.datetime(2019, 9, 18, 9, 13, 27))\n",
      "(189, 26682.0, 136.62, datetime.datetime(2019, 9, 18, 9, 14, 28))\n",
      "(190, 26698.6, 136.7, datetime.datetime(2019, 9, 18, 9, 15, 28))\n",
      "(191, 26469.5, 135.53, datetime.datetime(2019, 9, 18, 9, 16, 29))\n",
      "(192, 30271.2, 154.99, datetime.datetime(2019, 9, 18, 9, 17, 29))\n",
      "(193, 26190.6, 134.1, datetime.datetime(2019, 9, 18, 9, 18, 30))\n",
      "(194, 26034.6, 133.3, datetime.datetime(2019, 9, 18, 9, 19, 30))\n",
      "(195, 35078.9, 179.61, datetime.datetime(2019, 9, 18, 9, 20, 31))\n",
      "(196, 25735.7, 131.77, datetime.datetime(2019, 9, 18, 9, 21, 32))\n",
      "(197, 25500.0, 130.56, datetime.datetime(2019, 9, 18, 9, 22, 32))\n",
      "(198, 25380.5, 129.95, datetime.datetime(2019, 9, 18, 9, 23, 33))\n",
      "(199, 25138.1, 128.71, datetime.datetime(2019, 9, 18, 9, 24, 34))\n",
      "(200, 25234.4, 129.2, datetime.datetime(2019, 9, 18, 9, 25, 34))\n",
      "(201, 24932.2, 127.66, datetime.datetime(2019, 9, 18, 9, 26, 35))\n",
      "(202, 24862.5, 127.3, datetime.datetime(2019, 9, 18, 9, 27, 35))\n",
      "(203, 24630.1, 126.11, datetime.datetime(2019, 9, 18, 9, 28, 36))\n",
      "(204, 24567.0, 125.79, datetime.datetime(2019, 9, 18, 9, 29, 37))\n",
      "(205, 24503.9, 125.46, datetime.datetime(2019, 9, 18, 9, 30, 37))\n",
      "(206, 24268.2, 124.26, datetime.datetime(2019, 9, 18, 9, 31, 38))\n",
      "(207, 23959.4, 122.68, datetime.datetime(2019, 9, 18, 9, 32, 38))\n",
      "(208, 23956.1, 122.66, datetime.datetime(2019, 9, 18, 9, 33, 39))\n",
      "(209, 23697.1, 121.33, datetime.datetime(2019, 9, 18, 9, 34, 40))\n",
      "(210, 23537.7, 120.52, datetime.datetime(2019, 9, 18, 9, 35, 40))\n",
      "(211, 23554.3, 120.6, datetime.datetime(2019, 9, 18, 9, 36, 41))\n",
      "(212, 23338.5, 119.5, datetime.datetime(2019, 9, 18, 9, 37, 46))\n",
      "(213, 23179.2, 118.68, datetime.datetime(2019, 9, 18, 9, 38, 47))\n",
      "(214, 23006.5, 117.8, datetime.datetime(2019, 9, 18, 9, 39, 47))\n",
      "(215, 22867.1, 117.08, datetime.datetime(2019, 9, 18, 9, 40, 48))\n",
      "(216, 22525.1, 115.33, datetime.datetime(2019, 9, 18, 9, 41, 48))\n",
      "(217, 22349.1, 114.43, datetime.datetime(2019, 9, 18, 9, 42, 49))\n",
      "(218, 22262.8, 113.99, datetime.datetime(2019, 9, 18, 9, 43, 50))\n",
      "(219, 21967.3, 112.47, datetime.datetime(2019, 9, 18, 9, 44, 50))\n",
      "(220, 21781.3, 111.52, datetime.datetime(2019, 9, 18, 9, 45, 51))\n",
      "(221, 21705.0, 111.13, datetime.datetime(2019, 9, 18, 9, 46, 52))\n",
      "(222, 21651.8, 110.86, datetime.datetime(2019, 9, 18, 9, 47, 52))\n",
      "(223, 21392.9, 109.53, datetime.datetime(2019, 9, 18, 9, 48, 53))\n",
      "(224, 21253.4, 108.82, datetime.datetime(2019, 9, 18, 9, 49, 53))\n",
      "(225, 21250.1, 108.8, datetime.datetime(2019, 9, 18, 9, 50, 54))\n",
      "(226, 22289.3, 114.12, datetime.datetime(2019, 9, 18, 9, 51, 54))\n",
      "(227, 21187.0, 108.48, datetime.datetime(2019, 9, 18, 9, 52, 55))\n",
      "(228, 25563.1, 130.89, datetime.datetime(2019, 9, 18, 9, 53, 56))\n",
      "(229, 20891.5, 106.97, datetime.datetime(2019, 9, 18, 9, 54, 57))\n",
      "(230, 20838.4, 106.7, datetime.datetime(2019, 9, 18, 9, 55, 57))\n",
      "(231, 22631.3, 115.88, datetime.datetime(2019, 9, 18, 9, 56, 58))\n",
      "(232, 22196.4, 113.65, datetime.datetime(2019, 9, 18, 9, 57, 58))\n",
      "(233, 21127.2, 108.17, datetime.datetime(2019, 9, 18, 9, 58, 59))\n",
      "(234, 22213.0, 113.73, datetime.datetime(2019, 9, 18, 10, 0))\n",
      "(235, 20692.3, 105.95, datetime.datetime(2019, 9, 18, 10, 1))\n",
      "(236, 20768.7, 106.34, datetime.datetime(2019, 9, 18, 10, 2, 1))\n",
      "(237, 22043.6, 112.87, datetime.datetime(2019, 9, 18, 10, 3, 1))\n",
      "(238, 22471.9, 115.06, datetime.datetime(2019, 9, 18, 10, 4, 2))\n",
      "(239, 20718.9, 106.08, datetime.datetime(2019, 9, 18, 10, 5, 3))\n",
      "(240, 20596.0, 105.45, datetime.datetime(2019, 9, 18, 10, 6, 3))\n",
      "(241, 20466.5, 104.79, datetime.datetime(2019, 9, 18, 10, 7, 4))\n",
      "(242, 20523.0, 105.08, datetime.datetime(2019, 9, 18, 10, 8, 4))\n",
      "(243, 20665.7, 105.81, datetime.datetime(2019, 9, 18, 10, 9, 5))\n",
      "(244, 20858.3, 106.8, datetime.datetime(2019, 9, 18, 10, 10, 6))\n",
      "(245, 21728.2, 111.25, datetime.datetime(2019, 9, 18, 10, 11, 6))\n",
      "(246, 20430.0, 104.6, datetime.datetime(2019, 9, 18, 10, 12, 7))\n",
      "(247, 20297.2, 103.92, datetime.datetime(2019, 9, 18, 10, 13, 7))\n",
      "(248, 20433.3, 104.62, datetime.datetime(2019, 9, 18, 10, 14, 8))\n",
      "(249, 20416.7, 104.54, datetime.datetime(2019, 9, 18, 10, 15, 9))\n",
      "(250, 20383.5, 104.37, datetime.datetime(2019, 9, 18, 10, 16, 10))\n",
      "(251, 20516.3, 105.05, datetime.datetime(2019, 9, 18, 10, 17, 10))\n",
      "(252, 20264.0, 103.75, datetime.datetime(2019, 9, 18, 10, 18, 11))\n",
      "(253, 20503.0, 104.98, datetime.datetime(2019, 9, 18, 10, 19, 11))\n",
      "(254, 20147.8, 103.16, datetime.datetime(2019, 9, 18, 10, 20, 12))\n",
      "(255, 20244.1, 103.65, datetime.datetime(2019, 9, 18, 10, 21, 12))\n",
      "(256, 20413.4, 104.52, datetime.datetime(2019, 9, 18, 10, 22, 13))\n",
      "(257, 22126.6, 113.29, datetime.datetime(2019, 9, 18, 10, 23, 13))\n",
      "(258, 20283.9, 103.86, datetime.datetime(2019, 9, 18, 10, 24, 15))\n",
      "(259, 20280.6, 103.84, datetime.datetime(2019, 9, 18, 10, 25, 15))\n",
      "(260, 20277.3, 103.82, datetime.datetime(2019, 9, 18, 10, 26, 16))\n",
      "(261, 20074.7, 102.79, datetime.datetime(2019, 9, 18, 10, 27, 17))\n",
      "(262, 20293.9, 103.91, datetime.datetime(2019, 9, 18, 10, 28, 17))\n",
      "(263, 21655.2, 110.88, datetime.datetime(2019, 9, 18, 10, 29, 18))\n",
      "(264, 20121.2, 103.02, datetime.datetime(2019, 9, 18, 10, 30, 18))\n",
      "(265, 20124.5, 103.04, datetime.datetime(2019, 9, 18, 10, 31, 19))\n",
      "(266, 21967.3, 112.47, datetime.datetime(2019, 9, 18, 10, 32, 19))\n",
      "(267, 20234.1, 103.6, datetime.datetime(2019, 9, 18, 10, 33, 20))\n",
      "(268, 20204.2, 103.45, datetime.datetime(2019, 9, 18, 10, 34, 21))\n",
      "(269, 20041.5, 102.61, datetime.datetime(2019, 9, 18, 10, 35, 22))\n",
      "(270, 21718.2, 111.2, datetime.datetime(2019, 9, 18, 10, 36, 22))\n",
      "(271, 22000.5, 112.64, datetime.datetime(2019, 9, 18, 10, 37, 23))\n",
      "(272, 19978.4, 102.29, datetime.datetime(2019, 9, 18, 10, 38, 23))\n",
      "(273, 19872.2, 101.75, datetime.datetime(2019, 9, 18, 10, 39, 24))\n",
      "(274, 19905.4, 101.92, datetime.datetime(2019, 9, 18, 10, 40, 24))\n",
      "(275, 19649.7, 100.61, datetime.datetime(2019, 9, 18, 10, 41, 25))\n",
      "(276, 19729.4, 101.02, datetime.datetime(2019, 9, 18, 10, 42, 25))\n",
      "(277, 19775.9, 101.25, datetime.datetime(2019, 9, 18, 10, 43, 26))\n",
      "(278, 19580.0, 100.25, datetime.datetime(2019, 9, 18, 10, 44, 27))\n",
      "(279, 19692.9, 100.83, datetime.datetime(2019, 9, 18, 10, 45, 27))\n",
      "(280, 19586.7, 100.29, datetime.datetime(2019, 9, 18, 10, 46, 28))\n",
      "(281, 19457.2, 99.62, datetime.datetime(2019, 9, 18, 10, 47, 28))\n",
      "(282, 19414.0, 99.4, datetime.datetime(2019, 9, 18, 10, 48, 29))\n",
      "(283, 22139.9, 113.36, datetime.datetime(2019, 9, 18, 10, 49, 29))\n",
      "(284, 19301.1, 98.82, datetime.datetime(2019, 9, 18, 10, 50, 30))\n",
      "(285, 19297.8, 98.81, datetime.datetime(2019, 9, 18, 10, 51, 30))\n",
      "(286, 19068.7, 97.63, datetime.datetime(2019, 9, 18, 10, 52, 31))\n",
      "(287, 19234.7, 98.48, datetime.datetime(2019, 9, 18, 10, 53, 31))\n",
      "(288, 19082.0, 97.7, datetime.datetime(2019, 9, 18, 10, 54, 32))\n",
      "(289, 19015.6, 97.36, datetime.datetime(2019, 9, 18, 10, 55, 32))\n",
      "(290, 19012.3, 97.35, datetime.datetime(2019, 9, 18, 10, 56, 33))\n",
      "(291, 18965.8, 97.11, datetime.datetime(2019, 9, 18, 10, 57, 34))\n",
      "(292, 19065.4, 97.62, datetime.datetime(2019, 9, 18, 10, 58, 34))\n",
      "(293, 24902.3, 127.5, datetime.datetime(2019, 9, 18, 10, 59, 35))\n",
      "(294, 18836.3, 96.44, datetime.datetime(2019, 9, 18, 11, 0, 35))\n",
      "(295, 19503.7, 99.86, datetime.datetime(2019, 9, 18, 11, 1, 36))\n",
      "(296, 18696.8, 95.73, datetime.datetime(2019, 9, 18, 11, 2, 36))\n",
      "(297, 18730.0, 95.9, datetime.datetime(2019, 9, 18, 11, 3, 37))\n",
      "(298, 18587.3, 95.17, datetime.datetime(2019, 9, 18, 11, 4, 38))\n",
      "(299, 18208.8, 93.23, datetime.datetime(2019, 9, 18, 11, 5, 38))\n",
      "(300, 18364.8, 94.03, datetime.datetime(2019, 9, 18, 11, 6, 39))\n",
      "(301, 18265.2, 93.52, datetime.datetime(2019, 9, 18, 11, 7, 39))\n",
      "(302, 18222.0, 93.3, datetime.datetime(2019, 9, 18, 11, 8, 40))\n",
      "(303, 18152.3, 92.94, datetime.datetime(2019, 9, 18, 11, 9, 40))\n",
      "(304, 18075.9, 92.55, datetime.datetime(2019, 9, 18, 11, 10, 41))\n",
      "(305, 18119.1, 92.77, datetime.datetime(2019, 9, 18, 11, 11, 42))\n",
      "(306, 18002.9, 92.18, datetime.datetime(2019, 9, 18, 11, 12, 43))\n",
      "(307, 17893.3, 91.62, datetime.datetime(2019, 9, 18, 11, 13, 43))\n",
      "(308, 17823.6, 91.26, datetime.datetime(2019, 9, 18, 11, 14, 44))\n",
      "(309, 28136.3, 144.06, datetime.datetime(2019, 9, 18, 11, 15, 44))\n",
      "(310, 17810.3, 91.19, datetime.datetime(2019, 9, 18, 11, 16, 45))\n",
      "(311, 17664.2, 90.44, datetime.datetime(2019, 9, 18, 11, 17, 45))\n",
      "(312, 17641.0, 90.32, datetime.datetime(2019, 9, 18, 11, 18, 46))\n",
      "(313, 17401.9, 89.1, datetime.datetime(2019, 9, 18, 11, 19, 46))\n",
      "(314, 17704.1, 90.65, datetime.datetime(2019, 9, 18, 11, 20, 47))\n",
      "(315, 17667.6, 90.46, datetime.datetime(2019, 9, 18, 11, 21, 48))\n",
      "(316, 17634.4, 90.29, datetime.datetime(2019, 9, 18, 11, 22, 48))\n",
      "(317, 17418.5, 89.18, datetime.datetime(2019, 9, 18, 11, 23, 49))\n",
      "(318, 17378.7, 88.98, datetime.datetime(2019, 9, 18, 11, 24, 49))\n",
      "(319, 22222.9, 113.78, datetime.datetime(2019, 9, 18, 11, 25, 50))\n",
      "(320, 17342.2, 88.79, datetime.datetime(2019, 9, 18, 11, 26, 50))\n",
      "(321, 17202.7, 88.08, datetime.datetime(2019, 9, 18, 11, 27, 51))\n",
      "(322, 16907.2, 86.57, datetime.datetime(2019, 9, 18, 11, 28, 52))\n",
      "(323, 17106.4, 87.59, datetime.datetime(2019, 9, 18, 11, 29, 52))\n",
      "(324, 16950.4, 86.79, datetime.datetime(2019, 9, 18, 11, 30, 53))\n",
      "(325, 16844.1, 86.24, datetime.datetime(2019, 9, 18, 11, 31, 54))\n",
      "(326, 16857.4, 86.31, datetime.datetime(2019, 9, 18, 11, 32, 54))\n",
      "(327, 23793.4, 121.83, datetime.datetime(2019, 9, 18, 11, 33, 55))\n",
      "(328, 16734.6, 85.68, datetime.datetime(2019, 9, 18, 11, 34, 55))\n",
      "(329, 16771.1, 85.87, datetime.datetime(2019, 9, 18, 11, 35, 56))\n",
      "(330, 34773.4, 178.04, datetime.datetime(2019, 9, 18, 11, 36, 56))\n",
      "(331, 16492.2, 84.44, datetime.datetime(2019, 9, 18, 11, 37, 57))\n",
      "(332, 16595.1, 84.97, datetime.datetime(2019, 9, 18, 11, 38, 57))\n",
      "(333, 16535.4, 84.66, datetime.datetime(2019, 9, 18, 11, 39, 58))\n",
      "(334, 16439.1, 84.17, datetime.datetime(2019, 9, 18, 11, 40, 58))\n",
      "(335, 16488.9, 84.43, datetime.datetime(2019, 9, 18, 11, 41, 59))\n",
      "(336, 16312.9, 83.52, datetime.datetime(2019, 9, 18, 11, 43))\n",
      "(337, 16432.4, 84.14, datetime.datetime(2019, 9, 18, 11, 44, 1))\n",
      "(338, 16349.4, 83.71, datetime.datetime(2019, 9, 18, 11, 45, 1))\n",
      "(339, 16319.5, 83.56, datetime.datetime(2019, 9, 18, 11, 46, 2))\n",
      "(340, 17133.0, 87.72, datetime.datetime(2019, 9, 18, 11, 47, 2))\n",
      "(341, 16429.1, 84.12, datetime.datetime(2019, 9, 18, 11, 48, 3))\n",
      "(342, 16379.3, 83.86, datetime.datetime(2019, 9, 18, 11, 50, 9))\n",
      "(343, 16176.8, 82.83, datetime.datetime(2019, 9, 18, 11, 51, 9))\n",
      "(344, 16063.9, 82.25, datetime.datetime(2019, 9, 18, 11, 52, 10))\n",
      "(345, 16127.0, 82.57, datetime.datetime(2019, 9, 18, 11, 53, 11))\n",
      "(346, 16173.5, 82.81, datetime.datetime(2019, 9, 18, 11, 54, 12))\n",
      "(347, 18066.0, 92.5, datetime.datetime(2019, 9, 18, 11, 55, 12))\n",
      "(348, 15964.3, 81.74, datetime.datetime(2019, 9, 18, 11, 56, 13))\n",
      "(349, 15997.5, 81.91, datetime.datetime(2019, 9, 18, 11, 57, 13))\n",
      "(350, 16063.9, 82.25, datetime.datetime(2019, 9, 18, 11, 58, 14))\n",
      "(351, 16053.9, 82.2, datetime.datetime(2019, 9, 18, 11, 59, 14))\n",
      "(352, 15934.4, 81.59, datetime.datetime(2019, 9, 18, 12, 0, 15))\n",
      "(353, 15911.2, 81.47, datetime.datetime(2019, 9, 18, 12, 1, 15))\n",
      "(354, 15897.9, 81.4, datetime.datetime(2019, 9, 18, 12, 2, 16))\n",
      "(355, 15785.0, 80.82, datetime.datetime(2019, 9, 18, 12, 3, 17))\n",
      "(356, 15821.5, 81.01, datetime.datetime(2019, 9, 18, 12, 4, 17))\n",
      "(357, 19865.6, 101.71, datetime.datetime(2019, 9, 18, 12, 5, 18))\n",
      "(358, 15947.7, 81.65, datetime.datetime(2019, 9, 18, 12, 6, 18))\n"
     ]
    }
   ],
   "source": [
    "cursor = mydb.cursor()\n",
    "cursor.execute(\"SELECT * FROM tank\")\n",
    "for x in cursor:\n",
    "    print(x)"
   ]
  },
  {
   "cell_type": "code",
   "execution_count": 56,
   "metadata": {},
   "outputs": [
    {
     "name": "stdout",
     "output_type": "stream",
     "text": [
      "<bound method NDFrame.head of    s_no           date_time water_level pH_level turbidity\n",
      "0     1 2019-08-16 17:50:00       100.5        6       500\n",
      "1     2 2019-08-19 14:12:36       150.5        7       500>\n"
     ]
    }
   ],
   "source": [
    "df = pd.read_sql_query(\"select * from watertank_monitering\",mydb)\n",
    "print(df.head)"
   ]
  },
  {
   "cell_type": "code",
   "execution_count": 326,
   "metadata": {},
   "outputs": [
    {
     "data": {
      "text/html": [
       "<div>\n",
       "<style scoped>\n",
       "    .dataframe tbody tr th:only-of-type {\n",
       "        vertical-align: middle;\n",
       "    }\n",
       "\n",
       "    .dataframe tbody tr th {\n",
       "        vertical-align: top;\n",
       "    }\n",
       "\n",
       "    .dataframe thead th {\n",
       "        text-align: right;\n",
       "    }\n",
       "</style>\n",
       "<table border=\"1\" class=\"dataframe\">\n",
       "  <thead>\n",
       "    <tr style=\"text-align: right;\">\n",
       "      <th></th>\n",
       "      <th>SNO</th>\n",
       "      <th>Volume</th>\n",
       "      <th>WaterLevel</th>\n",
       "      <th>Time</th>\n",
       "    </tr>\n",
       "  </thead>\n",
       "  <tbody>\n",
       "    <tr>\n",
       "      <td>0</td>\n",
       "      <td>77072</td>\n",
       "      <td>31041.5</td>\n",
       "      <td>41.06</td>\n",
       "      <td>2019-09-16 12:00:47</td>\n",
       "    </tr>\n",
       "    <tr>\n",
       "      <td>1</td>\n",
       "      <td>77073</td>\n",
       "      <td>31011.6</td>\n",
       "      <td>41.22</td>\n",
       "      <td>2019-09-16 12:01:48</td>\n",
       "    </tr>\n",
       "    <tr>\n",
       "      <td>2</td>\n",
       "      <td>77074</td>\n",
       "      <td>31041.5</td>\n",
       "      <td>41.06</td>\n",
       "      <td>2019-09-16 12:02:48</td>\n",
       "    </tr>\n",
       "    <tr>\n",
       "      <td>3</td>\n",
       "      <td>77075</td>\n",
       "      <td>30955.2</td>\n",
       "      <td>41.51</td>\n",
       "      <td>2019-09-16 12:03:49</td>\n",
       "    </tr>\n",
       "    <tr>\n",
       "      <td>4</td>\n",
       "      <td>77076</td>\n",
       "      <td>31001.6</td>\n",
       "      <td>41.27</td>\n",
       "      <td>2019-09-16 12:04:49</td>\n",
       "    </tr>\n",
       "  </tbody>\n",
       "</table>\n",
       "</div>"
      ],
      "text/plain": [
       "     SNO   Volume  WaterLevel                 Time\n",
       "0  77072  31041.5       41.06  2019-09-16 12:00:47\n",
       "1  77073  31011.6       41.22  2019-09-16 12:01:48\n",
       "2  77074  31041.5       41.06  2019-09-16 12:02:48\n",
       "3  77075  30955.2       41.51  2019-09-16 12:03:49\n",
       "4  77076  31001.6       41.27  2019-09-16 12:04:49"
      ]
     },
     "execution_count": 326,
     "metadata": {},
     "output_type": "execute_result"
    }
   ],
   "source": [
    "df1 = pd.read_csv(r\"C:\\Users\\mythi\\Downloads\\WaterTank Data\\TankData1.csv\")\n",
    "df2 = pd.read_csv(r\"C:\\Users\\mythi\\Downloads\\WaterTank Data\\TankData2.csv\")\n",
    "df3 = pd.read_csv(r\"C:\\Users\\mythi\\Downloads\\WaterTank Data\\TankData3.csv\")\n",
    "df4 = pd.read_csv(r\"C:\\Users\\mythi\\Downloads\\WaterTank Data\\TankData4.csv\")\n",
    "df5 = pd.read_csv(r\"C:\\Users\\mythi\\Downloads\\WaterTank Data\\TankData5.csv\")\n",
    "df5.head()"
   ]
  },
  {
   "cell_type": "code",
   "execution_count": 287,
   "metadata": {},
   "outputs": [
    {
     "data": {
      "image/png": "[encoded data removed]",
      "text/plain": [
       "<Figure size 1152x648 with 1 Axes>"
      ]
     },
     "metadata": {
      "needs_background": "light"
     },
     "output_type": "display_data"
    }
   ],
   "source": [
    "plt.plot(df['Time'],df['Volume'],color='red')\n",
    "plt.show()"
   ]
  },
  {
   "cell_type": "code",
   "execution_count": 505,
   "metadata": {},
   "outputs": [],
   "source": [
    "df1 = df1.dropna()\n",
    "df2 = df2.dropna()\n",
    "df3 = df3.dropna()\n",
    "df4 = df4.dropna()\n",
    "df5 = df5.dropna()"
   ]
  },
  {
   "cell_type": "code",
   "execution_count": 506,
   "metadata": {},
   "outputs": [
    {
     "data": {
      "text/plain": [
       "SNO           60\n",
       "Volume        60\n",
       "WaterLevel    60\n",
       "Time          60\n",
       "dtype: int64"
      ]
     },
     "execution_count": 506,
     "metadata": {},
     "output_type": "execute_result"
    }
   ],
   "source": [
    "#no of values in the dataset\n",
    "df4.count()"
   ]
  },
  {
   "cell_type": "code",
   "execution_count": 507,
   "metadata": {},
   "outputs": [],
   "source": [
    "#storing count() in a variable\n",
    "a1=df1.count()\n",
    "a2=df2.count()\n",
    "a3=df3.count()\n",
    "a4=df4.count()\n",
    "a5=df5.count()\n"
   ]
  },
  {
   "cell_type": "code",
   "execution_count": null,
   "metadata": {},
   "outputs": [],
   "source": []
  },
  {
   "cell_type": "code",
   "execution_count": 508,
   "metadata": {},
   "outputs": [
    {
     "name": "stdout",
     "output_type": "stream",
     "text": [
      "59.0\n",
      "59.0\n",
      "59.0\n",
      "60.0\n",
      "59.0\n"
     ]
    }
   ],
   "source": [
    "print(float(a1[1]))\n",
    "a1=float(a1[1])\n",
    "print(float(a2[1]))\n",
    "a2=float(a2[1])\n",
    "print(float(a3[1]))\n",
    "a3=float(a3[1])\n",
    "print(float(a4[1]))\n",
    "a4=float(a4[1])\n",
    "print(float(a5[1]))\n",
    "a5=float(a5[1])"
   ]
  },
  {
   "cell_type": "code",
   "execution_count": 509,
   "metadata": {},
   "outputs": [
    {
     "data": {
      "text/plain": [
       "7.681145747868608"
      ]
     },
     "execution_count": 509,
     "metadata": {},
     "output_type": "execute_result"
    }
   ],
   "source": [
    "#finding square root for total no of recors present in dataset\n",
    "math.sqrt(a1)\n",
    "math.sqrt(a2)\n",
    "math.sqrt(a3)\n",
    "math.sqrt(a4)\n",
    "math.sqrt(a5)"
   ]
  },
  {
   "cell_type": "code",
   "execution_count": 510,
   "metadata": {},
   "outputs": [
    {
     "name": "stdout",
     "output_type": "stream",
     "text": [
      "7.681145747868608\n",
      "8\n",
      "7.681145747868608\n",
      "8\n",
      "7.681145747868608\n",
      "8\n",
      "7.745966692414834\n",
      "8\n",
      "7.681145747868608\n",
      "8\n"
     ]
    }
   ],
   "source": [
    "#storing square root value in K\n",
    "k1=math.sqrt(a1)\n",
    "print(k1)\n",
    "d1=round(k1)\n",
    "print(d1)\n",
    "k2=math.sqrt(a2)\n",
    "print(k2)\n",
    "d2=round(k2)\n",
    "print(d2)\n",
    "k3=math.sqrt(a3)\n",
    "print(k3)\n",
    "d3=round(k3)\n",
    "print(d3)\n",
    "k4=math.sqrt(a4)\n",
    "print(k4)\n",
    "d4=round(k4)\n",
    "print(d4)\n",
    "k5=math.sqrt(a5)\n",
    "print(k5)\n",
    "d5=round(k5)\n",
    "print(d5)"
   ]
  },
  {
   "cell_type": "code",
   "execution_count": 511,
   "metadata": {},
   "outputs": [
    {
     "name": "stdout",
     "output_type": "stream",
     "text": [
      "36407.0\n",
      "35723.0\n",
      "35391.0\n",
      "34069.5\n",
      "31041.5\n"
     ]
    }
   ],
   "source": [
    "#max value in the dataset\n",
    "max_val1=df1.max()\n",
    "print(max_val1[1])\n",
    "max_val2=df2.max()\n",
    "print(max_val2[1])\n",
    "max_val3=df3.max()\n",
    "print(max_val3[1])\n",
    "max_val4=df4.max()\n",
    "print(max_val4[1])\n",
    "max_val5=df5.max()\n",
    "print(max_val5[1])"
   ]
  },
  {
   "cell_type": "code",
   "execution_count": null,
   "metadata": {},
   "outputs": [],
   "source": []
  },
  {
   "cell_type": "code",
   "execution_count": 512,
   "metadata": {},
   "outputs": [
    {
     "name": "stdout",
     "output_type": "stream",
     "text": [
      "35570.3\n",
      "35570.3\n",
      "35308.0\n",
      "35308.0\n",
      "33996.5\n",
      "33996.5\n",
      "31054.8\n",
      "31054.8\n",
      "29039.4\n",
      "29039.4\n"
     ]
    }
   ],
   "source": [
    "#min value in the dataset\n",
    "min_val1=df1.min()\n",
    "print(min_val1[1])\n",
    "m1=min_val1[1]\n",
    "print(m1)\n",
    "\n",
    "min_val2=df2.min()\n",
    "print(min_val2[1])\n",
    "m2=min_val2[1]\n",
    "print(m2)\n",
    "\n",
    "min_val3=df3.min()\n",
    "print(min_val3[1])\n",
    "m3=min_val3[1]\n",
    "print(m3)\n",
    "\n",
    "min_val4=df4.min()\n",
    "print(min_val4[1])\n",
    "m4=min_val4[1]\n",
    "print(m4)\n",
    "\n",
    "min_val5=df5.min()\n",
    "print(min_val5[1])\n",
    "m5=min_val5[1]\n",
    "print(m5)"
   ]
  },
  {
   "cell_type": "code",
   "execution_count": 513,
   "metadata": {},
   "outputs": [
    {
     "data": {
      "text/plain": [
       "SNO                         76893\n",
       "Volume                      36407\n",
       "WaterLevel                  17.88\n",
       "Time          2019-09-16 08:59:08\n",
       "dtype: object"
      ]
     },
     "execution_count": 513,
     "metadata": {},
     "output_type": "execute_result"
    }
   ],
   "source": [
    "max_val1"
   ]
  },
  {
   "cell_type": "code",
   "execution_count": 514,
   "metadata": {},
   "outputs": [],
   "source": [
    "#finding interval\n",
    "interval1= float(max_val1[1]-min_val1[1])/d1\n",
    "interval2= float(max_val2[1]-min_val2[1])/d2\n",
    "interval3= float(max_val3[1]-min_val3[1])/d3\n",
    "interval4= float(max_val4[1]-min_val4[1])/d4\n",
    "interval5= float(max_val5[1]-min_val5[1])/d5"
   ]
  },
  {
   "cell_type": "code",
   "execution_count": 515,
   "metadata": {},
   "outputs": [
    {
     "name": "stdout",
     "output_type": "stream",
     "text": [
      "376.8375000000001\n"
     ]
    }
   ],
   "source": [
    "print(interval4)"
   ]
  },
  {
   "cell_type": "code",
   "execution_count": 516,
   "metadata": {},
   "outputs": [
    {
     "name": "stdout",
     "output_type": "stream",
     "text": [
      "105\n",
      "52\n",
      "174\n",
      "377\n",
      "250\n"
     ]
    }
   ],
   "source": [
    "x1 = round(interval1)\n",
    "print(x1)\n",
    "x2 = round(interval2)\n",
    "print(x2)\n",
    "x3 = round(interval3)\n",
    "print(x3)\n",
    "x4 = round(interval4)\n",
    "print(x4)\n",
    "x5 = round(interval5)\n",
    "print(x5)"
   ]
  },
  {
   "cell_type": "code",
   "execution_count": 517,
   "metadata": {},
   "outputs": [],
   "source": [
    "m1 = int(m1)\n",
    "m2 = int(m2)\n",
    "m3 = int(m3)\n",
    "m4 = int(m4)\n",
    "m5 = int(m5)"
   ]
  },
  {
   "cell_type": "code",
   "execution_count": 518,
   "metadata": {},
   "outputs": [],
   "source": [
    "def create_bins(lower_bound, width, quantity):\n",
    " \n",
    "    bins = []\n",
    "    for low in range(lower_bound, \n",
    "                     lower_bound + quantity*width + 1, width):\n",
    "        bins.append((low, low+width))\n",
    "    return bins"
   ]
  },
  {
   "cell_type": "code",
   "execution_count": 519,
   "metadata": {},
   "outputs": [],
   "source": [
    "bins1 = create_bins(lower_bound=m1,\n",
    "                   width=x1,\n",
    "                   quantity=d1)\n",
    "\n",
    "bins2 = create_bins(lower_bound=m2,\n",
    "                   width=x2,\n",
    "                   quantity=d2)\n",
    "\n",
    "bins3 = create_bins(lower_bound=m3,\n",
    "                   width=x3,\n",
    "                   quantity=d3)\n",
    "\n",
    "bins4 = create_bins(lower_bound=m4,\n",
    "                   width=x4,\n",
    "                   quantity=d4)\n",
    "\n",
    "bins5 = create_bins(lower_bound=m5,\n",
    "                   width=x5,\n",
    "                   quantity=d5)"
   ]
  },
  {
   "cell_type": "code",
   "execution_count": null,
   "metadata": {},
   "outputs": [],
   "source": []
  },
  {
   "cell_type": "code",
   "execution_count": 341,
   "metadata": {},
   "outputs": [],
   "source": [
    "s1= bins1\n",
    "s2= bins2\n",
    "s3= bins3\n",
    "s4= bins4\n",
    "s5= bins5\n"
   ]
  },
  {
   "cell_type": "code",
   "execution_count": null,
   "metadata": {},
   "outputs": [],
   "source": []
  },
  {
   "cell_type": "code",
   "execution_count": null,
   "metadata": {},
   "outputs": [],
   "source": []
  },
  {
   "cell_type": "code",
   "execution_count": 343,
   "metadata": {},
   "outputs": [],
   "source": [
    "add1=list()\n",
    "for i in bins1:\n",
    "    add1.append(int(i[0]+i[1]))\n",
    "    \n",
    "add2=list()\n",
    "for i in bins2:\n",
    "    add2.append(int(i[0]+i[1]))\n",
    "    \n",
    "add3=list()\n",
    "for i in bins3:\n",
    "    add3.append(int(i[0]+i[1]))\n",
    "    \n",
    "add4=list()\n",
    "for i in bins4:\n",
    "    add4.append(int(i[0]+i[1]))\n",
    "    \n",
    "add5=list()\n",
    "for i in bins5:\n",
    "    add5.append(int(i[0]+i[1]))\n",
    "    \n",
    "    "
   ]
  },
  {
   "cell_type": "code",
   "execution_count": 405,
   "metadata": {},
   "outputs": [
    {
     "data": {
      "text/plain": [
       "[58328, 58828, 59328, 59828, 60328, 60828, 61328, 61828, 62328]"
      ]
     },
     "execution_count": 405,
     "metadata": {},
     "output_type": "execute_result"
    }
   ],
   "source": [
    "add5\n"
   ]
  },
  {
   "cell_type": "code",
   "execution_count": 454,
   "metadata": {},
   "outputs": [],
   "source": [
    "mid1=list()\n",
    "for i in add1:\n",
    "    mid1.append(i/2)\n",
    "    \n",
    "mid2=list()\n",
    "for i in add2:\n",
    "    mid2.append(i/2)\n",
    "    \n",
    "mid3=list()\n",
    "for i in add3:\n",
    "    mid3.append(i/2)\n",
    "    \n",
    "mid4=list()\n",
    "for i in add4:\n",
    "    mid4.append(i/2)\n",
    "    \n",
    "mid5=list()\n",
    "for i in add5:\n",
    "    mid5.append(i/2)"
   ]
  },
  {
   "cell_type": "code",
   "execution_count": 478,
   "metadata": {},
   "outputs": [
    {
     "data": {
      "text/plain": [
       "3"
      ]
     },
     "execution_count": 478,
     "metadata": {},
     "output_type": "execute_result"
    }
   ],
   "source": [
    "mean1 =[]\n",
    "mid1 = [int(i) for i in mid1] \n",
    "for i in range(0,len(mid1),3):\n",
    "    mean1.append((mid1[i]+mid1[i+1]+mid1[i+2])//3)\n",
    "\n",
    "\n",
    "mean2 =[]\n",
    "mid2= [int(i) for i in mid1] \n",
    "for i in range(0,len(mid2),3):\n",
    "    mean2.append((mid2[i]+mid2[i+1]+mid2[i+2])//3)\n",
    "\n",
    "mean3 =[]\n",
    "mid3 = [int(i) for i in mid3] \n",
    "for i in range(0,len(mid3),3):\n",
    "    mean3.append((mid3[i]+mid3[i+1]+mid3[i+2])//3)\n",
    "\n",
    "\n",
    "mean4 =[]\n",
    "mid4 = [int(i) for i in mid4] \n",
    "for i in range(0,len(mid4),3):\n",
    "    mean4.append((mid4[i]+mid4[i+1]+mid4[i+2])//3)\n",
    "\n",
    "mean5 =[]\n",
    "mid5 = [int(i) for i in mid5] \n",
    "for i in range(0,len(mid5),3):\n",
    "    mean5.append((mid5[i]+mid5[i+1]+mid5[i+2])//3)\n",
    "\n",
    "    "
   ]
  },
  {
   "cell_type": "code",
   "execution_count": 480,
   "metadata": {},
   "outputs": [],
   "source": [
    "period1 = len(mean1)\n",
    "period2 = len(mean2)\n",
    "period3 = len(mean3)\n",
    "period4 = len(mean4)\n",
    "period5 = len(mean5)"
   ]
  },
  {
   "cell_type": "code",
   "execution_count": 481,
   "metadata": {},
   "outputs": [],
   "source": [
    "ds1 = pd.DataFrame(pd.date_range('8:00','9:00', periods=period1), columns=['Time'])\n",
    "ds2 = pd.DataFrame(pd.date_range('9:00','10:00', periods=period2), columns=['Time'])\n",
    "ds3 = pd.DataFrame(pd.date_range('10:00','11:00', periods=period3), columns=['Time'])\n",
    "ds4 = pd.DataFrame(pd.date_range('11:00','12:00', periods=period4), columns=['Time'])\n",
    "ds5 = pd.DataFrame(pd.date_range('12:00','13:00', periods=period5), columns=['Time'])"
   ]
  },
  {
   "cell_type": "code",
   "execution_count": null,
   "metadata": {},
   "outputs": [],
   "source": []
  },
  {
   "cell_type": "code",
   "execution_count": 482,
   "metadata": {},
   "outputs": [],
   "source": [
    "ds1['Time'] = pd.to_datetime(ds1['Time']).dt.time\n",
    "ds2['Time'] = pd.to_datetime(ds2['Time']).dt.time\n",
    "ds3['Time'] = pd.to_datetime(ds3['Time']).dt.time\n",
    "ds4['Time'] = pd.to_datetime(ds4['Time']).dt.time\n",
    "ds5['Time'] = pd.to_datetime(ds5['Time']).dt.time\n",
    "\n"
   ]
  },
  {
   "cell_type": "code",
   "execution_count": 483,
   "metadata": {},
   "outputs": [
    {
     "data": {
      "text/plain": [
       "0    08:00:00\n",
       "1    08:30:00\n",
       "2    09:00:00\n",
       "Name: Time, dtype: object"
      ]
     },
     "execution_count": 483,
     "metadata": {},
     "output_type": "execute_result"
    }
   ],
   "source": [
    "ds1['Time']"
   ]
  },
  {
   "cell_type": "code",
   "execution_count": 484,
   "metadata": {},
   "outputs": [
    {
     "data": {
      "text/plain": [
       "0    09:00:00\n",
       "1    09:30:00\n",
       "2    10:00:00\n",
       "Name: Time, dtype: object"
      ]
     },
     "execution_count": 484,
     "metadata": {},
     "output_type": "execute_result"
    }
   ],
   "source": [
    "ds2['Time']"
   ]
  },
  {
   "cell_type": "code",
   "execution_count": 485,
   "metadata": {},
   "outputs": [
    {
     "data": {
      "text/plain": [
       "0    10:00:00\n",
       "1    10:30:00\n",
       "2    11:00:00\n",
       "Name: Time, dtype: object"
      ]
     },
     "execution_count": 485,
     "metadata": {},
     "output_type": "execute_result"
    }
   ],
   "source": [
    "ds3['Time']"
   ]
  },
  {
   "cell_type": "code",
   "execution_count": 486,
   "metadata": {},
   "outputs": [
    {
     "data": {
      "text/plain": [
       "0    11:00:00\n",
       "1    11:30:00\n",
       "2    12:00:00\n",
       "Name: Time, dtype: object"
      ]
     },
     "execution_count": 486,
     "metadata": {},
     "output_type": "execute_result"
    }
   ],
   "source": [
    "ds4['Time']"
   ]
  },
  {
   "cell_type": "code",
   "execution_count": 487,
   "metadata": {},
   "outputs": [
    {
     "data": {
      "text/plain": [
       "0    12:00:00\n",
       "1    12:30:00\n",
       "2    13:00:00\n",
       "Name: Time, dtype: object"
      ]
     },
     "execution_count": 487,
     "metadata": {},
     "output_type": "execute_result"
    }
   ],
   "source": [
    "\n",
    "ds5['Time']"
   ]
  },
  {
   "cell_type": "code",
   "execution_count": null,
   "metadata": {},
   "outputs": [],
   "source": []
  },
  {
   "cell_type": "code",
   "execution_count": 488,
   "metadata": {},
   "outputs": [
    {
     "data": {
      "text/html": [
       "<div>\n",
       "<style scoped>\n",
       "    .dataframe tbody tr th:only-of-type {\n",
       "        vertical-align: middle;\n",
       "    }\n",
       "\n",
       "    .dataframe tbody tr th {\n",
       "        vertical-align: top;\n",
       "    }\n",
       "\n",
       "    .dataframe thead th {\n",
       "        text-align: right;\n",
       "    }\n",
       "</style>\n",
       "<table border=\"1\" class=\"dataframe\">\n",
       "  <thead>\n",
       "    <tr style=\"text-align: right;\">\n",
       "      <th></th>\n",
       "      <th>Time</th>\n",
       "      <th>Volume</th>\n",
       "    </tr>\n",
       "  </thead>\n",
       "  <tbody>\n",
       "    <tr>\n",
       "      <td>0</td>\n",
       "      <td>08:00:00</td>\n",
       "      <td>35727</td>\n",
       "    </tr>\n",
       "    <tr>\n",
       "      <td>1</td>\n",
       "      <td>08:30:00</td>\n",
       "      <td>36042</td>\n",
       "    </tr>\n",
       "    <tr>\n",
       "      <td>2</td>\n",
       "      <td>09:00:00</td>\n",
       "      <td>36357</td>\n",
       "    </tr>\n",
       "  </tbody>\n",
       "</table>\n",
       "</div>"
      ],
      "text/plain": [
       "       Time  Volume\n",
       "0  08:00:00   35727\n",
       "1  08:30:00   36042\n",
       "2  09:00:00   36357"
      ]
     },
     "execution_count": 488,
     "metadata": {},
     "output_type": "execute_result"
    }
   ],
   "source": [
    "ds1['Volume'] = mean1\n",
    "ds1"
   ]
  },
  {
   "cell_type": "code",
   "execution_count": null,
   "metadata": {},
   "outputs": [],
   "source": []
  },
  {
   "cell_type": "code",
   "execution_count": 491,
   "metadata": {},
   "outputs": [
    {
     "data": {
      "text/html": [
       "<div>\n",
       "<style scoped>\n",
       "    .dataframe tbody tr th:only-of-type {\n",
       "        vertical-align: middle;\n",
       "    }\n",
       "\n",
       "    .dataframe tbody tr th {\n",
       "        vertical-align: top;\n",
       "    }\n",
       "\n",
       "    .dataframe thead th {\n",
       "        text-align: right;\n",
       "    }\n",
       "</style>\n",
       "<table border=\"1\" class=\"dataframe\">\n",
       "  <thead>\n",
       "    <tr style=\"text-align: right;\">\n",
       "      <th></th>\n",
       "      <th>Time</th>\n",
       "      <th>Volume</th>\n",
       "    </tr>\n",
       "  </thead>\n",
       "  <tbody>\n",
       "    <tr>\n",
       "      <td>0</td>\n",
       "      <td>09:00:00</td>\n",
       "      <td>35727</td>\n",
       "    </tr>\n",
       "    <tr>\n",
       "      <td>1</td>\n",
       "      <td>09:30:00</td>\n",
       "      <td>36042</td>\n",
       "    </tr>\n",
       "    <tr>\n",
       "      <td>2</td>\n",
       "      <td>10:00:00</td>\n",
       "      <td>36357</td>\n",
       "    </tr>\n",
       "  </tbody>\n",
       "</table>\n",
       "</div>"
      ],
      "text/plain": [
       "       Time  Volume\n",
       "0  09:00:00   35727\n",
       "1  09:30:00   36042\n",
       "2  10:00:00   36357"
      ]
     },
     "execution_count": 491,
     "metadata": {},
     "output_type": "execute_result"
    }
   ],
   "source": [
    "ds2['Volume'] = mean2\n",
    "ds2"
   ]
  },
  {
   "cell_type": "code",
   "execution_count": 492,
   "metadata": {},
   "outputs": [
    {
     "data": {
      "text/html": [
       "<div>\n",
       "<style scoped>\n",
       "    .dataframe tbody tr th:only-of-type {\n",
       "        vertical-align: middle;\n",
       "    }\n",
       "\n",
       "    .dataframe tbody tr th {\n",
       "        vertical-align: top;\n",
       "    }\n",
       "\n",
       "    .dataframe thead th {\n",
       "        text-align: right;\n",
       "    }\n",
       "</style>\n",
       "<table border=\"1\" class=\"dataframe\">\n",
       "  <thead>\n",
       "    <tr style=\"text-align: right;\">\n",
       "      <th></th>\n",
       "      <th>Time</th>\n",
       "      <th>Volume</th>\n",
       "    </tr>\n",
       "  </thead>\n",
       "  <tbody>\n",
       "    <tr>\n",
       "      <td>0</td>\n",
       "      <td>10:00:00</td>\n",
       "      <td>34257</td>\n",
       "    </tr>\n",
       "    <tr>\n",
       "      <td>1</td>\n",
       "      <td>10:30:00</td>\n",
       "      <td>34779</td>\n",
       "    </tr>\n",
       "    <tr>\n",
       "      <td>2</td>\n",
       "      <td>11:00:00</td>\n",
       "      <td>35301</td>\n",
       "    </tr>\n",
       "  </tbody>\n",
       "</table>\n",
       "</div>"
      ],
      "text/plain": [
       "       Time  Volume\n",
       "0  10:00:00   34257\n",
       "1  10:30:00   34779\n",
       "2  11:00:00   35301"
      ]
     },
     "execution_count": 492,
     "metadata": {},
     "output_type": "execute_result"
    }
   ],
   "source": [
    "ds3['Volume'] = mean3\n",
    "ds3"
   ]
  },
  {
   "cell_type": "code",
   "execution_count": 493,
   "metadata": {},
   "outputs": [
    {
     "data": {
      "text/html": [
       "<div>\n",
       "<style scoped>\n",
       "    .dataframe tbody tr th:only-of-type {\n",
       "        vertical-align: middle;\n",
       "    }\n",
       "\n",
       "    .dataframe tbody tr th {\n",
       "        vertical-align: top;\n",
       "    }\n",
       "\n",
       "    .dataframe thead th {\n",
       "        text-align: right;\n",
       "    }\n",
       "</style>\n",
       "<table border=\"1\" class=\"dataframe\">\n",
       "  <thead>\n",
       "    <tr style=\"text-align: right;\">\n",
       "      <th></th>\n",
       "      <th>Time</th>\n",
       "      <th>Volume</th>\n",
       "    </tr>\n",
       "  </thead>\n",
       "  <tbody>\n",
       "    <tr>\n",
       "      <td>0</td>\n",
       "      <td>11:00:00</td>\n",
       "      <td>31619</td>\n",
       "    </tr>\n",
       "    <tr>\n",
       "      <td>1</td>\n",
       "      <td>11:30:00</td>\n",
       "      <td>32750</td>\n",
       "    </tr>\n",
       "    <tr>\n",
       "      <td>2</td>\n",
       "      <td>12:00:00</td>\n",
       "      <td>33881</td>\n",
       "    </tr>\n",
       "  </tbody>\n",
       "</table>\n",
       "</div>"
      ],
      "text/plain": [
       "       Time  Volume\n",
       "0  11:00:00   31619\n",
       "1  11:30:00   32750\n",
       "2  12:00:00   33881"
      ]
     },
     "execution_count": 493,
     "metadata": {},
     "output_type": "execute_result"
    }
   ],
   "source": [
    "ds4['Volume'] = mean4\n",
    "ds4"
   ]
  },
  {
   "cell_type": "code",
   "execution_count": 494,
   "metadata": {},
   "outputs": [
    {
     "data": {
      "text/html": [
       "<div>\n",
       "<style scoped>\n",
       "    .dataframe tbody tr th:only-of-type {\n",
       "        vertical-align: middle;\n",
       "    }\n",
       "\n",
       "    .dataframe tbody tr th {\n",
       "        vertical-align: top;\n",
       "    }\n",
       "\n",
       "    .dataframe thead th {\n",
       "        text-align: right;\n",
       "    }\n",
       "</style>\n",
       "<table border=\"1\" class=\"dataframe\">\n",
       "  <thead>\n",
       "    <tr style=\"text-align: right;\">\n",
       "      <th></th>\n",
       "      <th>Time</th>\n",
       "      <th>Volume</th>\n",
       "    </tr>\n",
       "  </thead>\n",
       "  <tbody>\n",
       "    <tr>\n",
       "      <td>0</td>\n",
       "      <td>12:00:00</td>\n",
       "      <td>29414</td>\n",
       "    </tr>\n",
       "    <tr>\n",
       "      <td>1</td>\n",
       "      <td>12:30:00</td>\n",
       "      <td>30164</td>\n",
       "    </tr>\n",
       "    <tr>\n",
       "      <td>2</td>\n",
       "      <td>13:00:00</td>\n",
       "      <td>30914</td>\n",
       "    </tr>\n",
       "  </tbody>\n",
       "</table>\n",
       "</div>"
      ],
      "text/plain": [
       "       Time  Volume\n",
       "0  12:00:00   29414\n",
       "1  12:30:00   30164\n",
       "2  13:00:00   30914"
      ]
     },
     "execution_count": 494,
     "metadata": {},
     "output_type": "execute_result"
    }
   ],
   "source": [
    "ds5['Volume'] = mean5\n",
    "ds5"
   ]
  },
  {
   "cell_type": "code",
   "execution_count": 495,
   "metadata": {},
   "outputs": [
    {
     "data": {
      "text/html": [
       "<div>\n",
       "<style scoped>\n",
       "    .dataframe tbody tr th:only-of-type {\n",
       "        vertical-align: middle;\n",
       "    }\n",
       "\n",
       "    .dataframe tbody tr th {\n",
       "        vertical-align: top;\n",
       "    }\n",
       "\n",
       "    .dataframe thead th {\n",
       "        text-align: right;\n",
       "    }\n",
       "</style>\n",
       "<table border=\"1\" class=\"dataframe\">\n",
       "  <thead>\n",
       "    <tr style=\"text-align: right;\">\n",
       "      <th></th>\n",
       "      <th>Time</th>\n",
       "      <th>Volume</th>\n",
       "    </tr>\n",
       "  </thead>\n",
       "  <tbody>\n",
       "    <tr>\n",
       "      <td>0</td>\n",
       "      <td>08:00:00</td>\n",
       "      <td>35727</td>\n",
       "    </tr>\n",
       "    <tr>\n",
       "      <td>1</td>\n",
       "      <td>08:30:00</td>\n",
       "      <td>36042</td>\n",
       "    </tr>\n",
       "    <tr>\n",
       "      <td>2</td>\n",
       "      <td>09:00:00</td>\n",
       "      <td>36357</td>\n",
       "    </tr>\n",
       "    <tr>\n",
       "      <td>0</td>\n",
       "      <td>09:00:00</td>\n",
       "      <td>35727</td>\n",
       "    </tr>\n",
       "    <tr>\n",
       "      <td>1</td>\n",
       "      <td>09:30:00</td>\n",
       "      <td>36042</td>\n",
       "    </tr>\n",
       "    <tr>\n",
       "      <td>2</td>\n",
       "      <td>10:00:00</td>\n",
       "      <td>36357</td>\n",
       "    </tr>\n",
       "  </tbody>\n",
       "</table>\n",
       "</div>"
      ],
      "text/plain": [
       "       Time  Volume\n",
       "0  08:00:00   35727\n",
       "1  08:30:00   36042\n",
       "2  09:00:00   36357\n",
       "0  09:00:00   35727\n",
       "1  09:30:00   36042\n",
       "2  10:00:00   36357"
      ]
     },
     "execution_count": 495,
     "metadata": {},
     "output_type": "execute_result"
    }
   ],
   "source": [
    "app1=ds1.append(ds2)\n",
    "app1"
   ]
  },
  {
   "cell_type": "code",
   "execution_count": 496,
   "metadata": {},
   "outputs": [
    {
     "data": {
      "text/html": [
       "<div>\n",
       "<style scoped>\n",
       "    .dataframe tbody tr th:only-of-type {\n",
       "        vertical-align: middle;\n",
       "    }\n",
       "\n",
       "    .dataframe tbody tr th {\n",
       "        vertical-align: top;\n",
       "    }\n",
       "\n",
       "    .dataframe thead th {\n",
       "        text-align: right;\n",
       "    }\n",
       "</style>\n",
       "<table border=\"1\" class=\"dataframe\">\n",
       "  <thead>\n",
       "    <tr style=\"text-align: right;\">\n",
       "      <th></th>\n",
       "      <th>Time</th>\n",
       "      <th>Volume</th>\n",
       "    </tr>\n",
       "  </thead>\n",
       "  <tbody>\n",
       "    <tr>\n",
       "      <td>0</td>\n",
       "      <td>10:00:00</td>\n",
       "      <td>34257</td>\n",
       "    </tr>\n",
       "    <tr>\n",
       "      <td>1</td>\n",
       "      <td>10:30:00</td>\n",
       "      <td>34779</td>\n",
       "    </tr>\n",
       "    <tr>\n",
       "      <td>2</td>\n",
       "      <td>11:00:00</td>\n",
       "      <td>35301</td>\n",
       "    </tr>\n",
       "    <tr>\n",
       "      <td>0</td>\n",
       "      <td>11:00:00</td>\n",
       "      <td>31619</td>\n",
       "    </tr>\n",
       "    <tr>\n",
       "      <td>1</td>\n",
       "      <td>11:30:00</td>\n",
       "      <td>32750</td>\n",
       "    </tr>\n",
       "    <tr>\n",
       "      <td>2</td>\n",
       "      <td>12:00:00</td>\n",
       "      <td>33881</td>\n",
       "    </tr>\n",
       "  </tbody>\n",
       "</table>\n",
       "</div>"
      ],
      "text/plain": [
       "       Time  Volume\n",
       "0  10:00:00   34257\n",
       "1  10:30:00   34779\n",
       "2  11:00:00   35301\n",
       "0  11:00:00   31619\n",
       "1  11:30:00   32750\n",
       "2  12:00:00   33881"
      ]
     },
     "execution_count": 496,
     "metadata": {},
     "output_type": "execute_result"
    }
   ],
   "source": [
    "app2 = ds3.append(ds4)\n",
    "app2"
   ]
  },
  {
   "cell_type": "code",
   "execution_count": 497,
   "metadata": {},
   "outputs": [
    {
     "data": {
      "text/html": [
       "<div>\n",
       "<style scoped>\n",
       "    .dataframe tbody tr th:only-of-type {\n",
       "        vertical-align: middle;\n",
       "    }\n",
       "\n",
       "    .dataframe tbody tr th {\n",
       "        vertical-align: top;\n",
       "    }\n",
       "\n",
       "    .dataframe thead th {\n",
       "        text-align: right;\n",
       "    }\n",
       "</style>\n",
       "<table border=\"1\" class=\"dataframe\">\n",
       "  <thead>\n",
       "    <tr style=\"text-align: right;\">\n",
       "      <th></th>\n",
       "      <th>Time</th>\n",
       "      <th>Volume</th>\n",
       "    </tr>\n",
       "  </thead>\n",
       "  <tbody>\n",
       "    <tr>\n",
       "      <td>0</td>\n",
       "      <td>08:00:00</td>\n",
       "      <td>35727</td>\n",
       "    </tr>\n",
       "    <tr>\n",
       "      <td>1</td>\n",
       "      <td>08:30:00</td>\n",
       "      <td>36042</td>\n",
       "    </tr>\n",
       "    <tr>\n",
       "      <td>2</td>\n",
       "      <td>09:00:00</td>\n",
       "      <td>36357</td>\n",
       "    </tr>\n",
       "    <tr>\n",
       "      <td>0</td>\n",
       "      <td>09:00:00</td>\n",
       "      <td>35727</td>\n",
       "    </tr>\n",
       "    <tr>\n",
       "      <td>1</td>\n",
       "      <td>09:30:00</td>\n",
       "      <td>36042</td>\n",
       "    </tr>\n",
       "    <tr>\n",
       "      <td>2</td>\n",
       "      <td>10:00:00</td>\n",
       "      <td>36357</td>\n",
       "    </tr>\n",
       "    <tr>\n",
       "      <td>0</td>\n",
       "      <td>10:00:00</td>\n",
       "      <td>34257</td>\n",
       "    </tr>\n",
       "    <tr>\n",
       "      <td>1</td>\n",
       "      <td>10:30:00</td>\n",
       "      <td>34779</td>\n",
       "    </tr>\n",
       "    <tr>\n",
       "      <td>2</td>\n",
       "      <td>11:00:00</td>\n",
       "      <td>35301</td>\n",
       "    </tr>\n",
       "    <tr>\n",
       "      <td>0</td>\n",
       "      <td>11:00:00</td>\n",
       "      <td>31619</td>\n",
       "    </tr>\n",
       "    <tr>\n",
       "      <td>1</td>\n",
       "      <td>11:30:00</td>\n",
       "      <td>32750</td>\n",
       "    </tr>\n",
       "    <tr>\n",
       "      <td>2</td>\n",
       "      <td>12:00:00</td>\n",
       "      <td>33881</td>\n",
       "    </tr>\n",
       "  </tbody>\n",
       "</table>\n",
       "</div>"
      ],
      "text/plain": [
       "       Time  Volume\n",
       "0  08:00:00   35727\n",
       "1  08:30:00   36042\n",
       "2  09:00:00   36357\n",
       "0  09:00:00   35727\n",
       "1  09:30:00   36042\n",
       "2  10:00:00   36357\n",
       "0  10:00:00   34257\n",
       "1  10:30:00   34779\n",
       "2  11:00:00   35301\n",
       "0  11:00:00   31619\n",
       "1  11:30:00   32750\n",
       "2  12:00:00   33881"
      ]
     },
     "execution_count": 497,
     "metadata": {},
     "output_type": "execute_result"
    }
   ],
   "source": [
    "app3 = app1.append(app2)\n",
    "app3"
   ]
  },
  {
   "cell_type": "code",
   "execution_count": 498,
   "metadata": {},
   "outputs": [
    {
     "data": {
      "text/html": [
       "<div>\n",
       "<style scoped>\n",
       "    .dataframe tbody tr th:only-of-type {\n",
       "        vertical-align: middle;\n",
       "    }\n",
       "\n",
       "    .dataframe tbody tr th {\n",
       "        vertical-align: top;\n",
       "    }\n",
       "\n",
       "    .dataframe thead th {\n",
       "        text-align: right;\n",
       "    }\n",
       "</style>\n",
       "<table border=\"1\" class=\"dataframe\">\n",
       "  <thead>\n",
       "    <tr style=\"text-align: right;\">\n",
       "      <th></th>\n",
       "      <th>Time</th>\n",
       "      <th>Volume</th>\n",
       "    </tr>\n",
       "  </thead>\n",
       "  <tbody>\n",
       "    <tr>\n",
       "      <td>0</td>\n",
       "      <td>08:00:00</td>\n",
       "      <td>35727</td>\n",
       "    </tr>\n",
       "    <tr>\n",
       "      <td>1</td>\n",
       "      <td>08:30:00</td>\n",
       "      <td>36042</td>\n",
       "    </tr>\n",
       "    <tr>\n",
       "      <td>2</td>\n",
       "      <td>09:00:00</td>\n",
       "      <td>36357</td>\n",
       "    </tr>\n",
       "    <tr>\n",
       "      <td>0</td>\n",
       "      <td>09:00:00</td>\n",
       "      <td>35727</td>\n",
       "    </tr>\n",
       "    <tr>\n",
       "      <td>1</td>\n",
       "      <td>09:30:00</td>\n",
       "      <td>36042</td>\n",
       "    </tr>\n",
       "    <tr>\n",
       "      <td>2</td>\n",
       "      <td>10:00:00</td>\n",
       "      <td>36357</td>\n",
       "    </tr>\n",
       "    <tr>\n",
       "      <td>0</td>\n",
       "      <td>10:00:00</td>\n",
       "      <td>34257</td>\n",
       "    </tr>\n",
       "    <tr>\n",
       "      <td>1</td>\n",
       "      <td>10:30:00</td>\n",
       "      <td>34779</td>\n",
       "    </tr>\n",
       "    <tr>\n",
       "      <td>2</td>\n",
       "      <td>11:00:00</td>\n",
       "      <td>35301</td>\n",
       "    </tr>\n",
       "    <tr>\n",
       "      <td>0</td>\n",
       "      <td>11:00:00</td>\n",
       "      <td>31619</td>\n",
       "    </tr>\n",
       "    <tr>\n",
       "      <td>1</td>\n",
       "      <td>11:30:00</td>\n",
       "      <td>32750</td>\n",
       "    </tr>\n",
       "    <tr>\n",
       "      <td>2</td>\n",
       "      <td>12:00:00</td>\n",
       "      <td>33881</td>\n",
       "    </tr>\n",
       "    <tr>\n",
       "      <td>0</td>\n",
       "      <td>12:00:00</td>\n",
       "      <td>29414</td>\n",
       "    </tr>\n",
       "    <tr>\n",
       "      <td>1</td>\n",
       "      <td>12:30:00</td>\n",
       "      <td>30164</td>\n",
       "    </tr>\n",
       "    <tr>\n",
       "      <td>2</td>\n",
       "      <td>13:00:00</td>\n",
       "      <td>30914</td>\n",
       "    </tr>\n",
       "  </tbody>\n",
       "</table>\n",
       "</div>"
      ],
      "text/plain": [
       "       Time  Volume\n",
       "0  08:00:00   35727\n",
       "1  08:30:00   36042\n",
       "2  09:00:00   36357\n",
       "0  09:00:00   35727\n",
       "1  09:30:00   36042\n",
       "2  10:00:00   36357\n",
       "0  10:00:00   34257\n",
       "1  10:30:00   34779\n",
       "2  11:00:00   35301\n",
       "0  11:00:00   31619\n",
       "1  11:30:00   32750\n",
       "2  12:00:00   33881\n",
       "0  12:00:00   29414\n",
       "1  12:30:00   30164\n",
       "2  13:00:00   30914"
      ]
     },
     "execution_count": 498,
     "metadata": {},
     "output_type": "execute_result"
    }
   ],
   "source": [
    "app4 = app3.append(ds5)\n",
    "app4"
   ]
  },
  {
   "cell_type": "code",
   "execution_count": 499,
   "metadata": {},
   "outputs": [
    {
     "data": {
      "text/plain": [
       "Time      15\n",
       "Volume    15\n",
       "dtype: int64"
      ]
     },
     "execution_count": 499,
     "metadata": {},
     "output_type": "execute_result"
    }
   ],
   "source": [
    "app4.count()"
   ]
  },
  {
   "cell_type": "code",
   "execution_count": 500,
   "metadata": {},
   "outputs": [
    {
     "data": {
      "text/html": [
       "<div>\n",
       "<style scoped>\n",
       "    .dataframe tbody tr th:only-of-type {\n",
       "        vertical-align: middle;\n",
       "    }\n",
       "\n",
       "    .dataframe tbody tr th {\n",
       "        vertical-align: top;\n",
       "    }\n",
       "\n",
       "    .dataframe thead th {\n",
       "        text-align: right;\n",
       "    }\n",
       "</style>\n",
       "<table border=\"1\" class=\"dataframe\">\n",
       "  <thead>\n",
       "    <tr style=\"text-align: right;\">\n",
       "      <th></th>\n",
       "      <th>Time</th>\n",
       "      <th>Volume</th>\n",
       "    </tr>\n",
       "  </thead>\n",
       "  <tbody>\n",
       "    <tr>\n",
       "      <td>0</td>\n",
       "      <td>08:00:00</td>\n",
       "      <td>35727</td>\n",
       "    </tr>\n",
       "    <tr>\n",
       "      <td>1</td>\n",
       "      <td>08:30:00</td>\n",
       "      <td>36042</td>\n",
       "    </tr>\n",
       "    <tr>\n",
       "      <td>2</td>\n",
       "      <td>09:00:00</td>\n",
       "      <td>36357</td>\n",
       "    </tr>\n",
       "    <tr>\n",
       "      <td>1</td>\n",
       "      <td>09:30:00</td>\n",
       "      <td>36042</td>\n",
       "    </tr>\n",
       "    <tr>\n",
       "      <td>2</td>\n",
       "      <td>10:00:00</td>\n",
       "      <td>36357</td>\n",
       "    </tr>\n",
       "    <tr>\n",
       "      <td>1</td>\n",
       "      <td>10:30:00</td>\n",
       "      <td>34779</td>\n",
       "    </tr>\n",
       "    <tr>\n",
       "      <td>2</td>\n",
       "      <td>11:00:00</td>\n",
       "      <td>35301</td>\n",
       "    </tr>\n",
       "    <tr>\n",
       "      <td>1</td>\n",
       "      <td>11:30:00</td>\n",
       "      <td>32750</td>\n",
       "    </tr>\n",
       "    <tr>\n",
       "      <td>2</td>\n",
       "      <td>12:00:00</td>\n",
       "      <td>33881</td>\n",
       "    </tr>\n",
       "    <tr>\n",
       "      <td>1</td>\n",
       "      <td>12:30:00</td>\n",
       "      <td>30164</td>\n",
       "    </tr>\n",
       "    <tr>\n",
       "      <td>2</td>\n",
       "      <td>13:00:00</td>\n",
       "      <td>30914</td>\n",
       "    </tr>\n",
       "  </tbody>\n",
       "</table>\n",
       "</div>"
      ],
      "text/plain": [
       "       Time  Volume\n",
       "0  08:00:00   35727\n",
       "1  08:30:00   36042\n",
       "2  09:00:00   36357\n",
       "1  09:30:00   36042\n",
       "2  10:00:00   36357\n",
       "1  10:30:00   34779\n",
       "2  11:00:00   35301\n",
       "1  11:30:00   32750\n",
       "2  12:00:00   33881\n",
       "1  12:30:00   30164\n",
       "2  13:00:00   30914"
      ]
     },
     "execution_count": 500,
     "metadata": {},
     "output_type": "execute_result"
    }
   ],
   "source": [
    "app4 = app4.drop_duplicates(['Time'])\n",
    "app4"
   ]
  },
  {
   "cell_type": "code",
   "execution_count": 501,
   "metadata": {},
   "outputs": [
    {
     "data": {
      "text/plain": [
       "[<matplotlib.lines.Line2D at 0x200cdf4d9e8>]"
      ]
     },
     "execution_count": 501,
     "metadata": {},
     "output_type": "execute_result"
    },
    {
     "data": {
      "image/png": "[encoded data removed]",
      "text/plain": [
       "<Figure size 1152x648 with 1 Axes>"
      ]
     },
     "metadata": {
      "needs_background": "light"
     },
     "output_type": "display_data"
    }
   ],
   "source": [
    "plt.plot(app4['Time'],app4['Volume'],color = 'red',marker='8',markerfacecolor='blue', markersize=10)"
   ]
  },
  {
   "cell_type": "code",
   "execution_count": 285,
   "metadata": {},
   "outputs": [
    {
     "ename": "AttributeError",
     "evalue": "'list' object has no attribute 'show'",
     "output_type": "error",
     "traceback": [
      "\u001b[1;31m---------------------------------------------------------------------------\u001b[0m",
      "\u001b[1;31mAttributeError\u001b[0m                            Traceback (most recent call last)",
      "\u001b[1;32m<ipython-input-285-179c9ffffecf>\u001b[0m in \u001b[0;36m<module>\u001b[1;34m\u001b[0m\n\u001b[1;32m----> 1\u001b[1;33m \u001b[0mx\u001b[0m\u001b[1;33m.\u001b[0m\u001b[0mshow\u001b[0m\u001b[1;33m(\u001b[0m\u001b[1;33m)\u001b[0m\u001b[1;33m\u001b[0m\u001b[0m\n\u001b[0m",
      "\u001b[1;31mAttributeError\u001b[0m: 'list' object has no attribute 'show'"
     ]
    }
   ],
   "source": []
  },
  {
   "cell_type": "code",
   "execution_count": null,
   "metadata": {},
   "outputs": [],
   "source": []
  },
  {
   "cell_type": "code",
   "execution_count": 91,
   "metadata": {},
   "outputs": [],
   "source": [
    "df['Time'] = pd.to_datetime(df['Time'])\n"
   ]
  },
  {
   "cell_type": "code",
   "execution_count": 92,
   "metadata": {},
   "outputs": [],
   "source": [
    "df['Time'] = pd.cut(x=df['Time'], bins=9)"
   ]
  },
  {
   "cell_type": "code",
   "execution_count": 95,
   "metadata": {},
   "outputs": [
    {
     "data": {
      "text/plain": [
       "'{\"0\":{\"closed\":\"right\",\"closed_right\":true,\"left\":1568620832488,\"mid\":1568621029355,\"open_right\":false,\"right\":1568621226222},\"1\":{\"closed\":\"right\",\"closed_right\":true,\"left\":1568620832488,\"mid\":1568621029355,\"open_right\":false,\"right\":1568621226222},\"2\":{\"closed\":\"right\",\"closed_right\":true,\"left\":1568620832488,\"mid\":1568621029355,\"open_right\":false,\"right\":1568621226222},\"3\":{\"closed\":\"right\",\"closed_right\":true,\"left\":1568620832488,\"mid\":1568621029355,\"open_right\":false,\"right\":1568621226222},\"4\":{\"closed\":\"right\",\"closed_right\":true,\"left\":1568620832488,\"mid\":1568621029355,\"open_right\":false,\"right\":1568621226222},\"5\":{\"closed\":\"right\",\"closed_right\":true,\"left\":1568620832488,\"mid\":1568621029355,\"open_right\":false,\"right\":1568621226222},\"6\":{\"closed\":\"right\",\"closed_right\":true,\"left\":1568620832488,\"mid\":1568621029355,\"open_right\":false,\"right\":1568621226222},\"7\":{\"closed\":\"right\",\"closed_right\":true,\"left\":1568621226222,\"mid\":1568621421333,\"open_right\":false,\"right\":1568621616444},\"8\":{\"closed\":\"right\",\"closed_right\":true,\"left\":1568621226222,\"mid\":1568621421333,\"open_right\":false,\"right\":1568621616444},\"9\":{\"closed\":\"right\",\"closed_right\":true,\"left\":1568621226222,\"mid\":1568621421333,\"open_right\":false,\"right\":1568621616444},\"10\":{\"closed\":\"right\",\"closed_right\":true,\"left\":1568621226222,\"mid\":1568621421333,\"open_right\":false,\"right\":1568621616444},\"11\":{\"closed\":\"right\",\"closed_right\":true,\"left\":1568621226222,\"mid\":1568621421333,\"open_right\":false,\"right\":1568621616444},\"12\":{\"closed\":\"right\",\"closed_right\":true,\"left\":1568621226222,\"mid\":1568621421333,\"open_right\":false,\"right\":1568621616444},\"13\":{\"closed\":\"right\",\"closed_right\":true,\"left\":1568621616444,\"mid\":1568621811555,\"open_right\":false,\"right\":1568622006666},\"14\":{\"closed\":\"right\",\"closed_right\":true,\"left\":1568621616444,\"mid\":1568621811555,\"open_right\":false,\"right\":1568622006666},\"15\":{\"closed\":\"right\",\"closed_right\":true,\"left\":1568621616444,\"mid\":1568621811555,\"open_right\":false,\"right\":1568622006666},\"16\":{\"closed\":\"right\",\"closed_right\":true,\"left\":1568621616444,\"mid\":1568621811555,\"open_right\":false,\"right\":1568622006666},\"17\":{\"closed\":\"right\",\"closed_right\":true,\"left\":1568621616444,\"mid\":1568621811555,\"open_right\":false,\"right\":1568622006666},\"18\":{\"closed\":\"right\",\"closed_right\":true,\"left\":1568621616444,\"mid\":1568621811555,\"open_right\":false,\"right\":1568622006666},\"19\":{\"closed\":\"right\",\"closed_right\":true,\"left\":1568621616444,\"mid\":1568621811555,\"open_right\":false,\"right\":1568622006666},\"20\":{\"closed\":\"right\",\"closed_right\":true,\"left\":1568622006666,\"mid\":1568622201777,\"open_right\":false,\"right\":1568622396888},\"21\":{\"closed\":\"right\",\"closed_right\":true,\"left\":1568622006666,\"mid\":1568622201777,\"open_right\":false,\"right\":1568622396888},\"22\":{\"closed\":\"right\",\"closed_right\":true,\"left\":1568622006666,\"mid\":1568622201777,\"open_right\":false,\"right\":1568622396888},\"23\":{\"closed\":\"right\",\"closed_right\":true,\"left\":1568622006666,\"mid\":1568622201777,\"open_right\":false,\"right\":1568622396888},\"24\":{\"closed\":\"right\",\"closed_right\":true,\"left\":1568622006666,\"mid\":1568622201777,\"open_right\":false,\"right\":1568622396888},\"25\":{\"closed\":\"right\",\"closed_right\":true,\"left\":1568622006666,\"mid\":1568622201777,\"open_right\":false,\"right\":1568622396888},\"26\":{\"closed\":\"right\",\"closed_right\":true,\"left\":1568622396888,\"mid\":1568622592000,\"open_right\":false,\"right\":1568622787111},\"27\":{\"closed\":\"right\",\"closed_right\":true,\"left\":1568622396888,\"mid\":1568622592000,\"open_right\":false,\"right\":1568622787111},\"28\":{\"closed\":\"right\",\"closed_right\":true,\"left\":1568622396888,\"mid\":1568622592000,\"open_right\":false,\"right\":1568622787111},\"29\":{\"closed\":\"right\",\"closed_right\":true,\"left\":1568622396888,\"mid\":1568622592000,\"open_right\":false,\"right\":1568622787111},\"30\":{\"closed\":\"right\",\"closed_right\":true,\"left\":1568622396888,\"mid\":1568622592000,\"open_right\":false,\"right\":1568622787111},\"31\":{\"closed\":\"right\",\"closed_right\":true,\"left\":1568622396888,\"mid\":1568622592000,\"open_right\":false,\"right\":1568622787111},\"32\":{\"closed\":\"right\",\"closed_right\":true,\"left\":1568622396888,\"mid\":1568622592000,\"open_right\":false,\"right\":1568622787111},\"33\":{\"closed\":\"right\",\"closed_right\":true,\"left\":1568622787111,\"mid\":1568622982222,\"open_right\":false,\"right\":1568623177333},\"34\":{\"closed\":\"right\",\"closed_right\":true,\"left\":1568622787111,\"mid\":1568622982222,\"open_right\":false,\"right\":1568623177333},\"35\":{\"closed\":\"right\",\"closed_right\":true,\"left\":1568622787111,\"mid\":1568622982222,\"open_right\":false,\"right\":1568623177333},\"36\":{\"closed\":\"right\",\"closed_right\":true,\"left\":1568622787111,\"mid\":1568622982222,\"open_right\":false,\"right\":1568623177333},\"37\":{\"closed\":\"right\",\"closed_right\":true,\"left\":1568622787111,\"mid\":1568622982222,\"open_right\":false,\"right\":1568623177333},\"38\":{\"closed\":\"right\",\"closed_right\":true,\"left\":1568622787111,\"mid\":1568622982222,\"open_right\":false,\"right\":1568623177333},\"39\":{\"closed\":\"right\",\"closed_right\":true,\"left\":1568623177333,\"mid\":1568623372444,\"open_right\":false,\"right\":1568623567555},\"40\":{\"closed\":\"right\",\"closed_right\":true,\"left\":1568623177333,\"mid\":1568623372444,\"open_right\":false,\"right\":1568623567555},\"41\":{\"closed\":\"right\",\"closed_right\":true,\"left\":1568623177333,\"mid\":1568623372444,\"open_right\":false,\"right\":1568623567555},\"42\":{\"closed\":\"right\",\"closed_right\":true,\"left\":1568623177333,\"mid\":1568623372444,\"open_right\":false,\"right\":1568623567555},\"43\":{\"closed\":\"right\",\"closed_right\":true,\"left\":1568623177333,\"mid\":1568623372444,\"open_right\":false,\"right\":1568623567555},\"44\":{\"closed\":\"right\",\"closed_right\":true,\"left\":1568623177333,\"mid\":1568623372444,\"open_right\":false,\"right\":1568623567555},\"45\":{\"closed\":\"right\",\"closed_right\":true,\"left\":1568623177333,\"mid\":1568623372444,\"open_right\":false,\"right\":1568623567555},\"46\":{\"closed\":\"right\",\"closed_right\":true,\"left\":1568623567555,\"mid\":1568623762666,\"open_right\":false,\"right\":1568623957777},\"47\":{\"closed\":\"right\",\"closed_right\":true,\"left\":1568623567555,\"mid\":1568623762666,\"open_right\":false,\"right\":1568623957777},\"48\":{\"closed\":\"right\",\"closed_right\":true,\"left\":1568623567555,\"mid\":1568623762666,\"open_right\":false,\"right\":1568623957777},\"49\":{\"closed\":\"right\",\"closed_right\":true,\"left\":1568623567555,\"mid\":1568623762666,\"open_right\":false,\"right\":1568623957777},\"50\":{\"closed\":\"right\",\"closed_right\":true,\"left\":1568623567555,\"mid\":1568623762666,\"open_right\":false,\"right\":1568623957777},\"51\":{\"closed\":\"right\",\"closed_right\":true,\"left\":1568623567555,\"mid\":1568623762666,\"open_right\":false,\"right\":1568623957777},\"52\":{\"closed\":\"right\",\"closed_right\":true,\"left\":1568623957777,\"mid\":1568624152888,\"open_right\":false,\"right\":1568624348000},\"53\":{\"closed\":\"right\",\"closed_right\":true,\"left\":1568623957777,\"mid\":1568624152888,\"open_right\":false,\"right\":1568624348000},\"54\":{\"closed\":\"right\",\"closed_right\":true,\"left\":1568623957777,\"mid\":1568624152888,\"open_right\":false,\"right\":1568624348000},\"55\":{\"closed\":\"right\",\"closed_right\":true,\"left\":1568623957777,\"mid\":1568624152888,\"open_right\":false,\"right\":1568624348000},\"56\":{\"closed\":\"right\",\"closed_right\":true,\"left\":1568623957777,\"mid\":1568624152888,\"open_right\":false,\"right\":1568624348000},\"57\":{\"closed\":\"right\",\"closed_right\":true,\"left\":1568623957777,\"mid\":1568624152888,\"open_right\":false,\"right\":1568624348000},\"58\":{\"closed\":\"right\",\"closed_right\":true,\"left\":1568623957777,\"mid\":1568624152888,\"open_right\":false,\"right\":1568624348000},\"59\":null}'"
      ]
     },
     "execution_count": 95,
     "metadata": {},
     "output_type": "execute_result"
    }
   ],
   "source": []
  },
  {
   "cell_type": "code",
   "execution_count": 80,
   "metadata": {},
   "outputs": [
    {
     "ename": "ValueError",
     "evalue": "x and y must be the same size",
     "output_type": "error",
     "traceback": [
      "\u001b[1;31m---------------------------------------------------------------------------\u001b[0m",
      "\u001b[1;31mValueError\u001b[0m                                Traceback (most recent call last)",
      "\u001b[1;32m<ipython-input-80-f9ccd214a3c2>\u001b[0m in \u001b[0;36m<module>\u001b[1;34m\u001b[0m\n\u001b[1;32m----> 1\u001b[1;33m \u001b[0mplt\u001b[0m\u001b[1;33m.\u001b[0m\u001b[0mscatter\u001b[0m\u001b[1;33m(\u001b[0m\u001b[0mTime\u001b[0m\u001b[1;33m,\u001b[0m\u001b[0mmid\u001b[0m\u001b[1;33m,\u001b[0m\u001b[0mcolor\u001b[0m\u001b[1;33m=\u001b[0m\u001b[1;34m'red'\u001b[0m\u001b[1;33m)\u001b[0m\u001b[1;33m\u001b[0m\u001b[0m\n\u001b[0m\u001b[0;32m      2\u001b[0m \u001b[0mplt\u001b[0m\u001b[1;33m.\u001b[0m\u001b[0mshow\u001b[0m\u001b[1;33m(\u001b[0m\u001b[1;33m)\u001b[0m\u001b[1;33m\u001b[0m\u001b[0m\n",
      "\u001b[1;32me:\\python36\\lib\\site-packages\\matplotlib\\pyplot.py\u001b[0m in \u001b[0;36mscatter\u001b[1;34m(x, y, s, c, marker, cmap, norm, vmin, vmax, alpha, linewidths, verts, edgecolors, plotnonfinite, data, **kwargs)\u001b[0m\n\u001b[0;32m   2845\u001b[0m         \u001b[0mverts\u001b[0m\u001b[1;33m=\u001b[0m\u001b[0mverts\u001b[0m\u001b[1;33m,\u001b[0m \u001b[0medgecolors\u001b[0m\u001b[1;33m=\u001b[0m\u001b[0medgecolors\u001b[0m\u001b[1;33m,\u001b[0m\u001b[1;33m\u001b[0m\u001b[0m\n\u001b[0;32m   2846\u001b[0m         plotnonfinite=plotnonfinite, **({\"data\": data} if data is not\n\u001b[1;32m-> 2847\u001b[1;33m         None else {}), **kwargs)\n\u001b[0m\u001b[0;32m   2848\u001b[0m     \u001b[0msci\u001b[0m\u001b[1;33m(\u001b[0m\u001b[0m__ret\u001b[0m\u001b[1;33m)\u001b[0m\u001b[1;33m\u001b[0m\u001b[0m\n\u001b[0;32m   2849\u001b[0m     \u001b[1;32mreturn\u001b[0m \u001b[0m__ret\u001b[0m\u001b[1;33m\u001b[0m\u001b[0m\n",
      "\u001b[1;32me:\\python36\\lib\\site-packages\\matplotlib\\__init__.py\u001b[0m in \u001b[0;36minner\u001b[1;34m(ax, data, *args, **kwargs)\u001b[0m\n\u001b[0;32m   1599\u001b[0m     \u001b[1;32mdef\u001b[0m \u001b[0minner\u001b[0m\u001b[1;33m(\u001b[0m\u001b[0max\u001b[0m\u001b[1;33m,\u001b[0m \u001b[1;33m*\u001b[0m\u001b[0margs\u001b[0m\u001b[1;33m,\u001b[0m \u001b[0mdata\u001b[0m\u001b[1;33m=\u001b[0m\u001b[1;32mNone\u001b[0m\u001b[1;33m,\u001b[0m \u001b[1;33m**\u001b[0m\u001b[0mkwargs\u001b[0m\u001b[1;33m)\u001b[0m\u001b[1;33m:\u001b[0m\u001b[1;33m\u001b[0m\u001b[0m\n\u001b[0;32m   1600\u001b[0m         \u001b[1;32mif\u001b[0m \u001b[0mdata\u001b[0m \u001b[1;32mis\u001b[0m \u001b[1;32mNone\u001b[0m\u001b[1;33m:\u001b[0m\u001b[1;33m\u001b[0m\u001b[0m\n\u001b[1;32m-> 1601\u001b[1;33m             \u001b[1;32mreturn\u001b[0m \u001b[0mfunc\u001b[0m\u001b[1;33m(\u001b[0m\u001b[0max\u001b[0m\u001b[1;33m,\u001b[0m \u001b[1;33m*\u001b[0m\u001b[0mmap\u001b[0m\u001b[1;33m(\u001b[0m\u001b[0msanitize_sequence\u001b[0m\u001b[1;33m,\u001b[0m \u001b[0margs\u001b[0m\u001b[1;33m)\u001b[0m\u001b[1;33m,\u001b[0m \u001b[1;33m**\u001b[0m\u001b[0mkwargs\u001b[0m\u001b[1;33m)\u001b[0m\u001b[1;33m\u001b[0m\u001b[0m\n\u001b[0m\u001b[0;32m   1602\u001b[0m \u001b[1;33m\u001b[0m\u001b[0m\n\u001b[0;32m   1603\u001b[0m         \u001b[0mbound\u001b[0m \u001b[1;33m=\u001b[0m \u001b[0mnew_sig\u001b[0m\u001b[1;33m.\u001b[0m\u001b[0mbind\u001b[0m\u001b[1;33m(\u001b[0m\u001b[0max\u001b[0m\u001b[1;33m,\u001b[0m \u001b[1;33m*\u001b[0m\u001b[0margs\u001b[0m\u001b[1;33m,\u001b[0m \u001b[1;33m**\u001b[0m\u001b[0mkwargs\u001b[0m\u001b[1;33m)\u001b[0m\u001b[1;33m\u001b[0m\u001b[0m\n",
      "\u001b[1;32me:\\python36\\lib\\site-packages\\matplotlib\\axes\\_axes.py\u001b[0m in \u001b[0;36mscatter\u001b[1;34m(self, x, y, s, c, marker, cmap, norm, vmin, vmax, alpha, linewidths, verts, edgecolors, plotnonfinite, **kwargs)\u001b[0m\n\u001b[0;32m   4442\u001b[0m         \u001b[0my\u001b[0m \u001b[1;33m=\u001b[0m \u001b[0mnp\u001b[0m\u001b[1;33m.\u001b[0m\u001b[0mma\u001b[0m\u001b[1;33m.\u001b[0m\u001b[0mravel\u001b[0m\u001b[1;33m(\u001b[0m\u001b[0my\u001b[0m\u001b[1;33m)\u001b[0m\u001b[1;33m\u001b[0m\u001b[0m\n\u001b[0;32m   4443\u001b[0m         \u001b[1;32mif\u001b[0m \u001b[0mx\u001b[0m\u001b[1;33m.\u001b[0m\u001b[0msize\u001b[0m \u001b[1;33m!=\u001b[0m \u001b[0my\u001b[0m\u001b[1;33m.\u001b[0m\u001b[0msize\u001b[0m\u001b[1;33m:\u001b[0m\u001b[1;33m\u001b[0m\u001b[0m\n\u001b[1;32m-> 4444\u001b[1;33m             \u001b[1;32mraise\u001b[0m \u001b[0mValueError\u001b[0m\u001b[1;33m(\u001b[0m\u001b[1;34m\"x and y must be the same size\"\u001b[0m\u001b[1;33m)\u001b[0m\u001b[1;33m\u001b[0m\u001b[0m\n\u001b[0m\u001b[0;32m   4445\u001b[0m \u001b[1;33m\u001b[0m\u001b[0m\n\u001b[0;32m   4446\u001b[0m         \u001b[1;32mif\u001b[0m \u001b[0ms\u001b[0m \u001b[1;32mis\u001b[0m \u001b[1;32mNone\u001b[0m\u001b[1;33m:\u001b[0m\u001b[1;33m\u001b[0m\u001b[0m\n",
      "\u001b[1;31mValueError\u001b[0m: x and y must be the same size"
     ]
    },
    {
     "data": {
      "image/png": "[encoded data removed]",
      "text/plain": [
       "<Figure size 432x288 with 1 Axes>"
      ]
     },
     "metadata": {
      "needs_background": "light"
     },
     "output_type": "display_data"
    }
   ],
   "source": [
    "plt.scatter(Time,mid,color='red')\n",
    "plt.show()"
   ]
  },
  {
   "cell_type": "code",
   "execution_count": 33,
   "metadata": {},
   "outputs": [],
   "source": [
    "mean = list()\n",
    "for i in range(0,len(mid),3):\n",
    "    mean.append((mid[i]+mid[i+1])/2)"
   ]
  },
  {
   "cell_type": "code",
   "execution_count": 34,
   "metadata": {},
   "outputs": [
    {
     "data": {
      "text/plain": [
       "[35675.0, 35990.0, 36305.0]"
      ]
     },
     "execution_count": 34,
     "metadata": {},
     "output_type": "execute_result"
    }
   ],
   "source": [
    "mean"
   ]
  },
  {
   "cell_type": "code",
   "execution_count": null,
   "metadata": {},
   "outputs": [],
   "source": []
  },
  {
   "cell_type": "code",
   "execution_count": 55,
   "metadata": {},
   "outputs": [],
   "source": [
    "Men=mean\n",
    "Tme=[12.0, 12.20, 12.40, 1.00]"
   ]
  },
  {
   "cell_type": "code",
   "execution_count": 58,
   "metadata": {},
   "outputs": [],
   "source": [
    "dict={'Mean':Men,'Time':Tme}\n",
    "df = pd.DataFrame(dict) \n",
    "  "
   ]
  },
  {
   "cell_type": "code",
   "execution_count": 59,
   "metadata": {},
   "outputs": [],
   "source": [
    "df.to_csv(r\"C:\\Users\\user\\Desktop\\Vimalan\\Water Tank\\aa.csv\") "
   ]
  },
  {
   "cell_type": "code",
   "execution_count": 60,
   "metadata": {},
   "outputs": [],
   "source": [
    "index = pd.read_csv(r\"C:\\Users\\user\\Desktop\\Vimalan\\Water Tank\\aa.csv\")"
   ]
  },
  {
   "cell_type": "code",
   "execution_count": 61,
   "metadata": {},
   "outputs": [
    {
     "name": "stdout",
     "output_type": "stream",
     "text": [
      "<bound method NDFrame.head of    Unnamed: 0     Mean  Time\n",
      "0           0  26838.0  12.0\n",
      "1           1  27376.0  12.2\n",
      "2           2  27914.0  12.4\n",
      "3           3  28452.0   1.0>\n"
     ]
    }
   ],
   "source": [
    "print(index.head)"
   ]
  },
  {
   "cell_type": "code",
   "execution_count": 62,
   "metadata": {},
   "outputs": [],
   "source": [
    "x=df.Time"
   ]
  },
  {
   "cell_type": "code",
   "execution_count": 63,
   "metadata": {},
   "outputs": [],
   "source": [
    "y=df.Mean"
   ]
  },
  {
   "cell_type": "code",
   "execution_count": 64,
   "metadata": {},
   "outputs": [
    {
     "data": {
      "image/png": "[encoded data removed]",
      "text/plain": [
       "<Figure size 432x288 with 1 Axes>"
      ]
     },
     "metadata": {
      "needs_background": "light"
     },
     "output_type": "display_data"
    }
   ],
   "source": [
    "plt.plot(x,y) \n",
    "plt.show()"
   ]
  },
  {
   "cell_type": "code",
   "execution_count": 504,
   "metadata": {},
   "outputs": [],
   "source": [
    "asa = '8:00'"
   ]
  },
  {
   "cell_type": "code",
   "execution_count": null,
   "metadata": {},
   "outputs": [],
   "source": [
    "\n"
   ]
  },
  {
   "cell_type": "code",
   "execution_count": null,
   "metadata": {},
   "outputs": [],
   "source": [
    "data[\"us-dollars\"]"
   ]
  },
  {
   "cell_type": "code",
   "execution_count": null,
   "metadata": {},
   "outputs": [],
   "source": []
  },
  {
   "cell_type": "code",
   "execution_count": null,
   "metadata": {},
   "outputs": [],
   "source": []
  },
  {
   "cell_type": "code",
   "execution_count": null,
   "metadata": {},
   "outputs": [],
   "source": []
  },
  {
   "cell_type": "code",
   "execution_count": null,
   "metadata": {},
   "outputs": [],
   "source": []
  },
  {
   "cell_type": "code",
   "execution_count": null,
   "metadata": {},
   "outputs": [],
   "source": []
  },
  {
   "cell_type": "code",
   "execution_count": null,
   "metadata": {},
   "outputs": [],
   "source": []
  },
  {
   "cell_type": "code",
   "execution_count": null,
   "metadata": {},
   "outputs": [],
   "source": []
  },
  {
   "cell_type": "code",
   "execution_count": null,
   "metadata": {},
   "outputs": [],
   "source": []
  },
  {
   "cell_type": "code",
   "execution_count": null,
   "metadata": {},
   "outputs": [],
   "source": []
  },
  {
   "cell_type": "code",
   "execution_count": null,
   "metadata": {},
   "outputs": [],
   "source": []
  },
  {
   "cell_type": "code",
   "execution_count": null,
   "metadata": {},
   "outputs": [],
   "source": []
  }
 ],
 "metadata": {
  "kernelspec": {
   "display_name": "Python 3",
   "language": "python",
   "name": "python3"
  },
  "language_info": {
   "codemirror_mode": {
    "name": "ipython",
    "version": 3
   },
   "file_extension": ".py",
   "mimetype": "text/x-python",
   "name": "python",
   "nbconvert_exporter": "python",
   "pygments_lexer": "ipython3",
   "version": "3.6.4"
  }
 },
 "nbformat": 4,
 "nbformat_minor": 2
}
